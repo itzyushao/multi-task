{
 "cells": [
  {
   "cell_type": "code",
   "execution_count": 201,
   "metadata": {},
   "outputs": [],
   "source": [
    "from sklearn.neighbors import DistanceMetric\n",
    "from math import radians\n",
    "import pandas as pd\n",
    "import numpy as np\n",
    "import networkx as nx\n",
    "import matplotlib.pyplot as plt\n",
    "import scipy.sparse\n",
    "import torch\n",
    "from torch.utils.dlpack import to_dlpack, from_dlpack\n",
    "from torch import Tensor\n",
    "import torch_geometric\n",
    "from torch_geometric.utils import to_undirected, is_undirected, convert\n",
    "from torch_geometric.data import Data\n",
    "from torch_geometric.utils.convert import from_networkx\n",
    "#from torch_geometric.nn import GCNConv\n",
    "import torch.nn.functional as F\n",
    "pd.options.mode.chained_assignment = None\n",
    "\n",
    "def MAPELoss(output, target):\n",
    "    return torch.mean(torch.abs((target - output) / target))  "
   ]
  },
  {
   "cell_type": "markdown",
   "metadata": {},
   "source": [
    "### Generate Sample Data"
   ]
  },
  {
   "cell_type": "code",
   "execution_count": 210,
   "metadata": {},
   "outputs": [
    {
     "data": {
      "text/html": [
       "<div>\n",
       "<style scoped>\n",
       "    .dataframe tbody tr th:only-of-type {\n",
       "        vertical-align: middle;\n",
       "    }\n",
       "\n",
       "    .dataframe tbody tr th {\n",
       "        vertical-align: top;\n",
       "    }\n",
       "\n",
       "    .dataframe thead th {\n",
       "        text-align: right;\n",
       "    }\n",
       "</style>\n",
       "<table border=\"1\" class=\"dataframe\">\n",
       "  <thead>\n",
       "    <tr style=\"text-align: right;\">\n",
       "      <th></th>\n",
       "      <th>house</th>\n",
       "      <th>lat</th>\n",
       "      <th>lon</th>\n",
       "      <th>x1</th>\n",
       "      <th>x2</th>\n",
       "      <th>y</th>\n",
       "    </tr>\n",
       "  </thead>\n",
       "  <tbody>\n",
       "    <tr>\n",
       "      <th>0</th>\n",
       "      <td>h1</td>\n",
       "      <td>12.9716</td>\n",
       "      <td>77.5946</td>\n",
       "      <td>20</td>\n",
       "      <td>5</td>\n",
       "      <td>1200</td>\n",
       "    </tr>\n",
       "    <tr>\n",
       "      <th>1</th>\n",
       "      <td>h2</td>\n",
       "      <td>19.0760</td>\n",
       "      <td>72.8770</td>\n",
       "      <td>35</td>\n",
       "      <td>5</td>\n",
       "      <td>1500</td>\n",
       "    </tr>\n",
       "    <tr>\n",
       "      <th>2</th>\n",
       "      <td>h3</td>\n",
       "      <td>28.7041</td>\n",
       "      <td>77.1025</td>\n",
       "      <td>24</td>\n",
       "      <td>7</td>\n",
       "      <td>2000</td>\n",
       "    </tr>\n",
       "    <tr>\n",
       "      <th>3</th>\n",
       "      <td>h4</td>\n",
       "      <td>22.5726</td>\n",
       "      <td>80.6390</td>\n",
       "      <td>33</td>\n",
       "      <td>13</td>\n",
       "      <td>1780</td>\n",
       "    </tr>\n",
       "    <tr>\n",
       "      <th>4</th>\n",
       "      <td>h5</td>\n",
       "      <td>13.0827</td>\n",
       "      <td>80.2707</td>\n",
       "      <td>35</td>\n",
       "      <td>16</td>\n",
       "      <td>1450</td>\n",
       "    </tr>\n",
       "    <tr>\n",
       "      <th>5</th>\n",
       "      <td>h6</td>\n",
       "      <td>23.2599</td>\n",
       "      <td>77.4126</td>\n",
       "      <td>18</td>\n",
       "      <td>21</td>\n",
       "      <td>3000</td>\n",
       "    </tr>\n",
       "    <tr>\n",
       "      <th>6</th>\n",
       "      <td>t1</td>\n",
       "      <td>12.9713</td>\n",
       "      <td>77.5920</td>\n",
       "      <td>19</td>\n",
       "      <td>6</td>\n",
       "      <td>1300</td>\n",
       "    </tr>\n",
       "    <tr>\n",
       "      <th>7</th>\n",
       "      <td>t2</td>\n",
       "      <td>19.0030</td>\n",
       "      <td>72.8605</td>\n",
       "      <td>32</td>\n",
       "      <td>6</td>\n",
       "      <td>1600</td>\n",
       "    </tr>\n",
       "    <tr>\n",
       "      <th>8</th>\n",
       "      <td>t3</td>\n",
       "      <td>28.7048</td>\n",
       "      <td>77.2000</td>\n",
       "      <td>23</td>\n",
       "      <td>6</td>\n",
       "      <td>1800</td>\n",
       "    </tr>\n",
       "  </tbody>\n",
       "</table>\n",
       "</div>"
      ],
      "text/plain": [
       "  house      lat      lon  x1  x2     y\n",
       "0    h1  12.9716  77.5946  20   5  1200\n",
       "1    h2  19.0760  72.8770  35   5  1500\n",
       "2    h3  28.7041  77.1025  24   7  2000\n",
       "3    h4  22.5726  80.6390  33  13  1780\n",
       "4    h5  13.0827  80.2707  35  16  1450\n",
       "5    h6  23.2599  77.4126  18  21  3000\n",
       "6    t1  12.9713  77.5920  19   6  1300\n",
       "7    t2  19.0030  72.8605  32   6  1600\n",
       "8    t3  28.7048  77.2000  23   6  1800"
      ]
     },
     "execution_count": 210,
     "metadata": {},
     "output_type": "execute_result"
    }
   ],
   "source": [
    "cities_df = pd.DataFrame({\n",
    "    'house':['h1','h2','h3','h4','h5','h6','t1','t2','t3'],\n",
    "    'lat':[12.9716,19.076,28.7041,22.5726,13.0827,23.2599,12.9713,19.003,28.7048],\n",
    "    'lon':[77.5946,72.877,77.1025,80.639,80.2707,77.4126,77.5920,72.8605,77.2000],\n",
    "    'x1':[20,35,24,33,35,18,19,32,23],\n",
    "    'x2':[5,5,7,13,16,21,6,6,6],\n",
    "    'y':[1200,1500,2000,1780,1450,3000,1300,1600,1800]})\n",
    "cities_df"
   ]
  },
  {
   "cell_type": "code",
   "execution_count": 211,
   "metadata": {},
   "outputs": [
    {
     "data": {
      "text/html": [
       "<div>\n",
       "<style scoped>\n",
       "    .dataframe tbody tr th:only-of-type {\n",
       "        vertical-align: middle;\n",
       "    }\n",
       "\n",
       "    .dataframe tbody tr th {\n",
       "        vertical-align: top;\n",
       "    }\n",
       "\n",
       "    .dataframe thead th {\n",
       "        text-align: right;\n",
       "    }\n",
       "</style>\n",
       "<table border=\"1\" class=\"dataframe\">\n",
       "  <thead>\n",
       "    <tr style=\"text-align: right;\">\n",
       "      <th></th>\n",
       "      <th>h1</th>\n",
       "      <th>h2</th>\n",
       "      <th>h3</th>\n",
       "      <th>h4</th>\n",
       "      <th>h5</th>\n",
       "      <th>h6</th>\n",
       "      <th>t1</th>\n",
       "      <th>t2</th>\n",
       "      <th>t3</th>\n",
       "    </tr>\n",
       "  </thead>\n",
       "  <tbody>\n",
       "    <tr>\n",
       "      <th>h1</th>\n",
       "      <td>0.000000</td>\n",
       "      <td>845.628325</td>\n",
       "      <td>1750.664163</td>\n",
       "      <td>1115.398072</td>\n",
       "      <td>290.263116</td>\n",
       "      <td>1144.527052</td>\n",
       "      <td>0.283787</td>\n",
       "      <td>840.242766</td>\n",
       "      <td>1750.477562</td>\n",
       "    </tr>\n",
       "    <tr>\n",
       "      <th>h2</th>\n",
       "      <td>845.628325</td>\n",
       "      <td>0.000000</td>\n",
       "      <td>1153.629733</td>\n",
       "      <td>895.568328</td>\n",
       "      <td>1033.479952</td>\n",
       "      <td>661.621084</td>\n",
       "      <td>845.489790</td>\n",
       "      <td>8.303050</td>\n",
       "      <td>1157.417037</td>\n",
       "    </tr>\n",
       "    <tr>\n",
       "      <th>h3</th>\n",
       "      <td>1750.664163</td>\n",
       "      <td>1153.629733</td>\n",
       "      <td>0.000000</td>\n",
       "      <td>768.561737</td>\n",
       "      <td>1768.206317</td>\n",
       "      <td>606.349722</td>\n",
       "      <td>1750.689713</td>\n",
       "      <td>1161.831857</td>\n",
       "      <td>9.512484</td>\n",
       "    </tr>\n",
       "    <tr>\n",
       "      <th>h4</th>\n",
       "      <td>1115.398072</td>\n",
       "      <td>895.568328</td>\n",
       "      <td>768.561737</td>\n",
       "      <td>0.000000</td>\n",
       "      <td>1056.278018</td>\n",
       "      <td>339.263770</td>\n",
       "      <td>1115.509490</td>\n",
       "      <td>900.832222</td>\n",
       "      <td>764.176288</td>\n",
       "    </tr>\n",
       "    <tr>\n",
       "      <th>h5</th>\n",
       "      <td>290.263116</td>\n",
       "      <td>1033.479952</td>\n",
       "      <td>1768.206317</td>\n",
       "      <td>1056.278018</td>\n",
       "      <td>0.000000</td>\n",
       "      <td>1171.476936</td>\n",
       "      <td>290.546208</td>\n",
       "      <td>1029.735636</td>\n",
       "      <td>1766.441052</td>\n",
       "    </tr>\n",
       "    <tr>\n",
       "      <th>h6</th>\n",
       "      <td>1144.527052</td>\n",
       "      <td>661.621084</td>\n",
       "      <td>606.349722</td>\n",
       "      <td>339.263770</td>\n",
       "      <td>1171.476936</td>\n",
       "      <td>0.000000</td>\n",
       "      <td>1144.555845</td>\n",
       "      <td>668.642547</td>\n",
       "      <td>606.007783</td>\n",
       "    </tr>\n",
       "    <tr>\n",
       "      <th>t1</th>\n",
       "      <td>0.283787</td>\n",
       "      <td>845.489790</td>\n",
       "      <td>1750.689713</td>\n",
       "      <td>1115.509490</td>\n",
       "      <td>290.546208</td>\n",
       "      <td>1144.555845</td>\n",
       "      <td>0.000000</td>\n",
       "      <td>840.102374</td>\n",
       "      <td>1750.504667</td>\n",
       "    </tr>\n",
       "    <tr>\n",
       "      <th>t2</th>\n",
       "      <td>840.242766</td>\n",
       "      <td>8.303050</td>\n",
       "      <td>1161.831857</td>\n",
       "      <td>900.832222</td>\n",
       "      <td>1029.735636</td>\n",
       "      <td>668.642547</td>\n",
       "      <td>840.102374</td>\n",
       "      <td>0.000000</td>\n",
       "      <td>1165.609158</td>\n",
       "    </tr>\n",
       "    <tr>\n",
       "      <th>t3</th>\n",
       "      <td>1750.477562</td>\n",
       "      <td>1157.417037</td>\n",
       "      <td>9.512484</td>\n",
       "      <td>764.176288</td>\n",
       "      <td>1766.441052</td>\n",
       "      <td>606.007783</td>\n",
       "      <td>1750.504667</td>\n",
       "      <td>1165.609158</td>\n",
       "      <td>0.000000</td>\n",
       "    </tr>\n",
       "  </tbody>\n",
       "</table>\n",
       "</div>"
      ],
      "text/plain": [
       "             h1           h2           h3           h4           h5  \\\n",
       "h1     0.000000   845.628325  1750.664163  1115.398072   290.263116   \n",
       "h2   845.628325     0.000000  1153.629733   895.568328  1033.479952   \n",
       "h3  1750.664163  1153.629733     0.000000   768.561737  1768.206317   \n",
       "h4  1115.398072   895.568328   768.561737     0.000000  1056.278018   \n",
       "h5   290.263116  1033.479952  1768.206317  1056.278018     0.000000   \n",
       "h6  1144.527052   661.621084   606.349722   339.263770  1171.476936   \n",
       "t1     0.283787   845.489790  1750.689713  1115.509490   290.546208   \n",
       "t2   840.242766     8.303050  1161.831857   900.832222  1029.735636   \n",
       "t3  1750.477562  1157.417037     9.512484   764.176288  1766.441052   \n",
       "\n",
       "             h6           t1           t2           t3  \n",
       "h1  1144.527052     0.283787   840.242766  1750.477562  \n",
       "h2   661.621084   845.489790     8.303050  1157.417037  \n",
       "h3   606.349722  1750.689713  1161.831857     9.512484  \n",
       "h4   339.263770  1115.509490   900.832222   764.176288  \n",
       "h5  1171.476936   290.546208  1029.735636  1766.441052  \n",
       "h6     0.000000  1144.555845   668.642547   606.007783  \n",
       "t1  1144.555845     0.000000   840.102374  1750.504667  \n",
       "t2   668.642547   840.102374     0.000000  1165.609158  \n",
       "t3   606.007783  1750.504667  1165.609158     0.000000  "
      ]
     },
     "execution_count": 211,
     "metadata": {},
     "output_type": "execute_result"
    }
   ],
   "source": [
    "cities_df['lat'] = np.radians(cities_df['lat'])\n",
    "cities_df['lon'] = np.radians(cities_df['lon'])\n",
    "\n",
    "dist = DistanceMetric.get_metric('haversine')\n",
    "\n",
    "cities_df[['lat','lon']].to_numpy()\n",
    "\n",
    "df_dist = pd.DataFrame(dist.pairwise(cities_df[['lat','lon']].to_numpy())*6373,  columns=cities_df.house.unique(), index=cities_df.house.unique())\n",
    "df_dist"
   ]
  },
  {
   "cell_type": "code",
   "execution_count": 212,
   "metadata": {},
   "outputs": [
    {
     "name": "stderr",
     "output_type": "stream",
     "text": [
      "/Users/shao/anaconda3/lib/python3.7/site-packages/networkx/drawing/nx_pylab.py:579: MatplotlibDeprecationWarning: \n",
      "The iterable function was deprecated in Matplotlib 3.1 and will be removed in 3.3. Use np.iterable instead.\n",
      "  if not cb.iterable(width):\n",
      "/Users/shao/anaconda3/lib/python3.7/site-packages/networkx/drawing/nx_pylab.py:585: MatplotlibDeprecationWarning: \n",
      "The iterable function was deprecated in Matplotlib 3.1 and will be removed in 3.3. Use np.iterable instead.\n",
      "  and cb.iterable(edge_color) \\\n",
      "/Users/shao/anaconda3/lib/python3.7/site-packages/networkx/drawing/nx_pylab.py:595: MatplotlibDeprecationWarning: \n",
      "The iterable function was deprecated in Matplotlib 3.1 and will be removed in 3.3. Use np.iterable instead.\n",
      "  for c in edge_color]):\n"
     ]
    },
    {
     "data": {
      "image/png": "[encoded data removed]",
      "text/plain": [
       "<Figure size 432x288 with 1 Axes>"
      ]
     },
     "metadata": {},
     "output_type": "display_data"
    }
   ],
   "source": [
    "G = nx.from_numpy_matrix(df_dist.values)\n",
    "nx.draw(G, edge_color = [i[2]['weight'] for i in G.edges(data=True)], edge_cmap = plt.cm.Blues)"
   ]
  },
  {
   "cell_type": "code",
   "execution_count": 213,
   "metadata": {},
   "outputs": [
    {
     "data": {
      "text/plain": [
       "array([[1., 0., 0., 0., 1., 0., 1., 0., 0.],\n",
       "       [0., 1., 0., 0., 0., 1., 0., 1., 0.],\n",
       "       [0., 0., 1., 1., 0., 1., 0., 0., 1.],\n",
       "       [0., 0., 1., 1., 0., 1., 0., 0., 1.],\n",
       "       [1., 0., 0., 0., 1., 0., 1., 0., 0.],\n",
       "       [0., 1., 1., 1., 0., 1., 0., 1., 1.],\n",
       "       [1., 0., 0., 0., 1., 0., 1., 0., 0.],\n",
       "       [0., 1., 0., 0., 0., 1., 0., 1., 0.],\n",
       "       [0., 0., 1., 1., 0., 1., 0., 0., 1.]])"
      ]
     },
     "execution_count": 213,
     "metadata": {},
     "output_type": "execute_result"
    }
   ],
   "source": [
    "D = df_dist.values\n",
    "D[D <800] = 1\n",
    "D[D >=800] = 0\n",
    "D"
   ]
  },
  {
   "cell_type": "code",
   "execution_count": 215,
   "metadata": {},
   "outputs": [
    {
     "data": {
      "image/png": "[encoded data removed]",
      "text/plain": [
       "<Figure size 432x288 with 1 Axes>"
      ]
     },
     "metadata": {},
     "output_type": "display_data"
    }
   ],
   "source": [
    "G = nx.from_numpy_matrix(D)\n",
    "nx.draw(G, edge_color = '#E28F83')"
   ]
  },
  {
   "cell_type": "markdown",
   "metadata": {},
   "source": [
    "### Training Testing Spilt"
   ]
  },
  {
   "cell_type": "code",
   "execution_count": 226,
   "metadata": {},
   "outputs": [
    {
     "data": {
      "text/html": [
       "<div>\n",
       "<style scoped>\n",
       "    .dataframe tbody tr th:only-of-type {\n",
       "        vertical-align: middle;\n",
       "    }\n",
       "\n",
       "    .dataframe tbody tr th {\n",
       "        vertical-align: top;\n",
       "    }\n",
       "\n",
       "    .dataframe thead th {\n",
       "        text-align: right;\n",
       "    }\n",
       "</style>\n",
       "<table border=\"1\" class=\"dataframe\">\n",
       "  <thead>\n",
       "    <tr style=\"text-align: right;\">\n",
       "      <th></th>\n",
       "      <th>house</th>\n",
       "      <th>lat</th>\n",
       "      <th>lon</th>\n",
       "      <th>x1</th>\n",
       "      <th>x2</th>\n",
       "      <th>y</th>\n",
       "    </tr>\n",
       "  </thead>\n",
       "  <tbody>\n",
       "    <tr>\n",
       "      <th>0</th>\n",
       "      <td>h1</td>\n",
       "      <td>0.000069</td>\n",
       "      <td>0.000413</td>\n",
       "      <td>20</td>\n",
       "      <td>5</td>\n",
       "      <td>1200</td>\n",
       "    </tr>\n",
       "    <tr>\n",
       "      <th>1</th>\n",
       "      <td>h2</td>\n",
       "      <td>0.000101</td>\n",
       "      <td>0.000387</td>\n",
       "      <td>35</td>\n",
       "      <td>5</td>\n",
       "      <td>1500</td>\n",
       "    </tr>\n",
       "    <tr>\n",
       "      <th>2</th>\n",
       "      <td>h3</td>\n",
       "      <td>0.000153</td>\n",
       "      <td>0.000410</td>\n",
       "      <td>24</td>\n",
       "      <td>7</td>\n",
       "      <td>2000</td>\n",
       "    </tr>\n",
       "    <tr>\n",
       "      <th>3</th>\n",
       "      <td>h4</td>\n",
       "      <td>0.000120</td>\n",
       "      <td>0.000429</td>\n",
       "      <td>33</td>\n",
       "      <td>13</td>\n",
       "      <td>1780</td>\n",
       "    </tr>\n",
       "    <tr>\n",
       "      <th>4</th>\n",
       "      <td>h5</td>\n",
       "      <td>0.000070</td>\n",
       "      <td>0.000427</td>\n",
       "      <td>35</td>\n",
       "      <td>16</td>\n",
       "      <td>1450</td>\n",
       "    </tr>\n",
       "    <tr>\n",
       "      <th>5</th>\n",
       "      <td>h6</td>\n",
       "      <td>0.000124</td>\n",
       "      <td>0.000412</td>\n",
       "      <td>18</td>\n",
       "      <td>21</td>\n",
       "      <td>3000</td>\n",
       "    </tr>\n",
       "  </tbody>\n",
       "</table>\n",
       "</div>"
      ],
      "text/plain": [
       "  house       lat       lon  x1  x2     y\n",
       "0    h1  0.000069  0.000413  20   5  1200\n",
       "1    h2  0.000101  0.000387  35   5  1500\n",
       "2    h3  0.000153  0.000410  24   7  2000\n",
       "3    h4  0.000120  0.000429  33  13  1780\n",
       "4    h5  0.000070  0.000427  35  16  1450\n",
       "5    h6  0.000124  0.000412  18  21  3000"
      ]
     },
     "execution_count": 226,
     "metadata": {},
     "output_type": "execute_result"
    }
   ],
   "source": [
    "train = cities_df[0:6]\n",
    "train"
   ]
  },
  {
   "cell_type": "code",
   "execution_count": 227,
   "metadata": {},
   "outputs": [
    {
     "data": {
      "text/html": [
       "<div>\n",
       "<style scoped>\n",
       "    .dataframe tbody tr th:only-of-type {\n",
       "        vertical-align: middle;\n",
       "    }\n",
       "\n",
       "    .dataframe tbody tr th {\n",
       "        vertical-align: top;\n",
       "    }\n",
       "\n",
       "    .dataframe thead th {\n",
       "        text-align: right;\n",
       "    }\n",
       "</style>\n",
       "<table border=\"1\" class=\"dataframe\">\n",
       "  <thead>\n",
       "    <tr style=\"text-align: right;\">\n",
       "      <th></th>\n",
       "      <th>house</th>\n",
       "      <th>lat</th>\n",
       "      <th>lon</th>\n",
       "      <th>x1</th>\n",
       "      <th>x2</th>\n",
       "      <th>y</th>\n",
       "    </tr>\n",
       "  </thead>\n",
       "  <tbody>\n",
       "    <tr>\n",
       "      <th>0</th>\n",
       "      <td>h1</td>\n",
       "      <td>0.000069</td>\n",
       "      <td>0.000413</td>\n",
       "      <td>20</td>\n",
       "      <td>5</td>\n",
       "      <td>1200</td>\n",
       "    </tr>\n",
       "    <tr>\n",
       "      <th>1</th>\n",
       "      <td>h2</td>\n",
       "      <td>0.000101</td>\n",
       "      <td>0.000387</td>\n",
       "      <td>35</td>\n",
       "      <td>5</td>\n",
       "      <td>1500</td>\n",
       "    </tr>\n",
       "    <tr>\n",
       "      <th>2</th>\n",
       "      <td>h3</td>\n",
       "      <td>0.000153</td>\n",
       "      <td>0.000410</td>\n",
       "      <td>24</td>\n",
       "      <td>7</td>\n",
       "      <td>2000</td>\n",
       "    </tr>\n",
       "    <tr>\n",
       "      <th>3</th>\n",
       "      <td>h4</td>\n",
       "      <td>0.000120</td>\n",
       "      <td>0.000429</td>\n",
       "      <td>33</td>\n",
       "      <td>13</td>\n",
       "      <td>1780</td>\n",
       "    </tr>\n",
       "    <tr>\n",
       "      <th>4</th>\n",
       "      <td>h5</td>\n",
       "      <td>0.000070</td>\n",
       "      <td>0.000427</td>\n",
       "      <td>35</td>\n",
       "      <td>16</td>\n",
       "      <td>1450</td>\n",
       "    </tr>\n",
       "    <tr>\n",
       "      <th>5</th>\n",
       "      <td>h6</td>\n",
       "      <td>0.000124</td>\n",
       "      <td>0.000412</td>\n",
       "      <td>18</td>\n",
       "      <td>21</td>\n",
       "      <td>3000</td>\n",
       "    </tr>\n",
       "    <tr>\n",
       "      <th>6</th>\n",
       "      <td>t1</td>\n",
       "      <td>0.226392</td>\n",
       "      <td>1.354236</td>\n",
       "      <td>19</td>\n",
       "      <td>6</td>\n",
       "      <td>1300</td>\n",
       "    </tr>\n",
       "    <tr>\n",
       "      <th>7</th>\n",
       "      <td>t2</td>\n",
       "      <td>0.331665</td>\n",
       "      <td>1.271656</td>\n",
       "      <td>32</td>\n",
       "      <td>6</td>\n",
       "      <td>1600</td>\n",
       "    </tr>\n",
       "    <tr>\n",
       "      <th>8</th>\n",
       "      <td>t3</td>\n",
       "      <td>0.500993</td>\n",
       "      <td>1.347394</td>\n",
       "      <td>23</td>\n",
       "      <td>6</td>\n",
       "      <td>1800</td>\n",
       "    </tr>\n",
       "  </tbody>\n",
       "</table>\n",
       "</div>"
      ],
      "text/plain": [
       "  house       lat       lon  x1  x2     y\n",
       "0    h1  0.000069  0.000413  20   5  1200\n",
       "1    h2  0.000101  0.000387  35   5  1500\n",
       "2    h3  0.000153  0.000410  24   7  2000\n",
       "3    h4  0.000120  0.000429  33  13  1780\n",
       "4    h5  0.000070  0.000427  35  16  1450\n",
       "5    h6  0.000124  0.000412  18  21  3000\n",
       "6    t1  0.226392  1.354236  19   6  1300\n",
       "7    t2  0.331665  1.271656  32   6  1600\n",
       "8    t3  0.500993  1.347394  23   6  1800"
      ]
     },
     "execution_count": 227,
     "metadata": {},
     "output_type": "execute_result"
    }
   ],
   "source": [
    "test = cities_df[0:9]\n",
    "test"
   ]
  },
  {
   "cell_type": "code",
   "execution_count": 233,
   "metadata": {},
   "outputs": [],
   "source": [
    "def geo_transform(df, m):\n",
    "    df['lat'] = np.radians(df['lat'])\n",
    "    df['lon'] = np.radians(df['lon'])\n",
    "    \n",
    "    dist = DistanceMetric.get_metric('haversine')\n",
    "    \n",
    "    df_dist = pd.DataFrame(dist.pairwise(df[['lat','lon']].to_numpy())*6373,  columns=df.house.unique(), index=df.house.unique())\n",
    "    \n",
    "    D = df_dist.values\n",
    "    D[D < m] = 1\n",
    "    D[D >= m] = 0\n",
    "    \n",
    "    G = nx.from_numpy_matrix(D)\n",
    "    edge_index = from_networkx(G).edge_index\n",
    "    \n",
    "    x = torch.tensor(df[['x1','x2']].values, dtype=torch.float)\n",
    "    y = torch.tensor(df[['y']].values, dtype=torch.float)\n",
    "    \n",
    "    data = Data(x=x, y=y, edge_index=edge_index)\n",
    "    \n",
    "    return edge_index, x, y, data"
   ]
  },
  {
   "cell_type": "code",
   "execution_count": 234,
   "metadata": {},
   "outputs": [],
   "source": [
    "edge_index, x, y, data = geo_transform(train, 800)"
   ]
  },
  {
   "cell_type": "code",
   "execution_count": 235,
   "metadata": {},
   "outputs": [],
   "source": [
    "edge_index_test, x_test, y_test, data_test = geo_transform(test, 800)"
   ]
  },
  {
   "cell_type": "code",
   "execution_count": 236,
   "metadata": {},
   "outputs": [
    {
     "data": {
      "text/plain": [
       "tensor([[0, 0, 0, 0, 0, 0, 1, 1, 1, 1, 1, 1, 2, 2, 2, 2, 2, 2, 3, 3, 3, 3, 3, 3,\n",
       "         4, 4, 4, 4, 4, 4, 5, 5, 5, 5, 5, 5],\n",
       "        [0, 1, 2, 3, 4, 5, 0, 1, 2, 3, 4, 5, 0, 1, 2, 3, 4, 5, 0, 1, 2, 3, 4, 5,\n",
       "         0, 1, 2, 3, 4, 5, 0, 1, 2, 3, 4, 5]])"
      ]
     },
     "execution_count": 236,
     "metadata": {},
     "output_type": "execute_result"
    }
   ],
   "source": [
    "edge_index"
   ]
  },
  {
   "cell_type": "code",
   "execution_count": 237,
   "metadata": {},
   "outputs": [
    {
     "data": {
      "text/plain": [
       "tensor([[20.,  5.],\n",
       "        [35.,  5.],\n",
       "        [24.,  7.],\n",
       "        [33., 13.],\n",
       "        [35., 16.],\n",
       "        [18., 21.]])"
      ]
     },
     "execution_count": 237,
     "metadata": {},
     "output_type": "execute_result"
    }
   ],
   "source": [
    "x"
   ]
  },
  {
   "cell_type": "code",
   "execution_count": 238,
   "metadata": {},
   "outputs": [
    {
     "data": {
      "text/plain": [
       "tensor([[1200.],\n",
       "        [1500.],\n",
       "        [2000.],\n",
       "        [1780.],\n",
       "        [1450.],\n",
       "        [3000.]])"
      ]
     },
     "execution_count": 238,
     "metadata": {},
     "output_type": "execute_result"
    }
   ],
   "source": [
    "y"
   ]
  },
  {
   "cell_type": "code",
   "execution_count": 239,
   "metadata": {},
   "outputs": [
    {
     "data": {
      "text/plain": [
       "Data(edge_index=[2, 36], x=[6, 2], y=[6, 1])"
      ]
     },
     "execution_count": 239,
     "metadata": {},
     "output_type": "execute_result"
    }
   ],
   "source": [
    "data"
   ]
  },
  {
   "cell_type": "code",
   "execution_count": 240,
   "metadata": {},
   "outputs": [
    {
     "data": {
      "text/plain": [
       "Data(edge_index=[2, 81], x=[9, 2], y=[9, 1])"
      ]
     },
     "execution_count": 240,
     "metadata": {},
     "output_type": "execute_result"
    }
   ],
   "source": [
    "data_test"
   ]
  },
  {
   "cell_type": "code",
   "execution_count": 21,
   "metadata": {},
   "outputs": [],
   "source": [
    "# from torch.utils.data import DataLoader\n",
    "# loader = DataLoader(data, batch_size=512, shuffle=True)"
   ]
  },
  {
   "cell_type": "code",
   "execution_count": 241,
   "metadata": {},
   "outputs": [],
   "source": [
    "import torch\n",
    "from torch_geometric.nn import MessagePassing\n",
    "from torch_geometric.utils import add_self_loops, degree\n",
    "\n",
    "class GCNConv(MessagePassing):\n",
    "    def __init__(self, in_channels, out_channels):\n",
    "        super(GCNConv, self).__init__(aggr='add')\n",
    "        self.lin = torch.nn.Linear(in_channels, out_channels)\n",
    "\n",
    "    def forward(self, x, edge_index):\n",
    "        # Step 1: Add self-loops\n",
    "        edge_index, _ = add_self_loops(edge_index, num_nodes=x.size(0))\n",
    "\n",
    "        # Step 2: Multiply with weights\n",
    "        x = self.lin(x)\n",
    "\n",
    "        # Step 3: Calculate the normalization\n",
    "        row, col = edge_index\n",
    "        deg = degree(row, x.size(0), dtype=x.dtype)\n",
    "        deg_inv_sqrt = deg.pow(-0.5)\n",
    "        norm = deg_inv_sqrt[row] * deg_inv_sqrt[col]\n",
    "\n",
    "        # Step 4: Propagate the embeddings to the next layer\n",
    "        return self.propagate(edge_index, size=(x.size(0), x.size(0)), x=x,\n",
    "                              norm=norm)\n",
    "\n",
    "    def message(self, x_j, norm):\n",
    "        # Normalize node features.\n",
    "        return norm.view(-1, 1) * x_j"
   ]
  },
  {
   "cell_type": "code",
   "execution_count": 242,
   "metadata": {},
   "outputs": [],
   "source": [
    "import torch\n",
    "import torch.nn.functional as F\n",
    "\n",
    "class Net(torch.nn.Module):\n",
    "    def __init__(self, dataset):\n",
    "        super(Net, self).__init__()\n",
    "        self.conv1 = GCNConv(dataset.num_node_features, 2)\n",
    "        self.conv2 = GCNConv(2, 1)\n",
    "\n",
    "    def forward(self, data):\n",
    "        x, edge_index = data.x, data.edge_index\n",
    "\n",
    "        x = self.conv1(x, edge_index)\n",
    "        x = F.relu(x)\n",
    "        x = F.dropout(x, training=self.training)\n",
    "        x = self.conv2(x, edge_index)\n",
    "\n",
    "        return x"
   ]
  },
  {
   "cell_type": "code",
   "execution_count": 252,
   "metadata": {},
   "outputs": [],
   "source": [
    "device = torch.device('cuda' if torch.cuda.is_available() else 'cpu')\n",
    "model = Net(data).to(device)\n",
    "data = data.to(device)\n",
    "optimizer = torch.optim.Adam(model.parameters(), lr=0.001, weight_decay=5e-4)"
   ]
  },
  {
   "cell_type": "code",
   "execution_count": 253,
   "metadata": {},
   "outputs": [
    {
     "name": "stdout",
     "output_type": "stream",
     "text": [
      "Epoch [1000/10000], Loss: 0.9901\n",
      "Epoch [2000/10000], Loss: 0.7816\n",
      "Epoch [3000/10000], Loss: 0.5773\n",
      "Epoch [4000/10000], Loss: 0.3888\n",
      "Epoch [5000/10000], Loss: 0.2661\n",
      "Epoch [6000/10000], Loss: 0.5910\n",
      "Epoch [7000/10000], Loss: 0.1997\n",
      "Epoch [8000/10000], Loss: 0.2984\n",
      "Epoch [9000/10000], Loss: 0.3477\n",
      "Epoch [10000/10000], Loss: 0.2314\n"
     ]
    }
   ],
   "source": [
    "num_epochs = 10000\n",
    "\n",
    "model.train()\n",
    "for epoch in range(num_epochs):\n",
    "    optimizer.zero_grad()\n",
    "    \n",
    "    out = model(data)\n",
    "    loss = MAPELoss(out, data.y)\n",
    "    loss.backward()\n",
    "  \n",
    "    optimizer.step()\n",
    "    # Print the progress\n",
    "    if (epoch+1) % 1000 == 0:\n",
    "        print('Epoch [{}/{}], Loss: {:.4f}'.format(epoch+1, num_epochs, loss.item()))"
   ]
  },
  {
   "cell_type": "code",
   "execution_count": 257,
   "metadata": {},
   "outputs": [
    {
     "data": {
      "text/plain": [
       "tensor([[1383.7874],\n",
       "        [1795.9534],\n",
       "        [1781.8550],\n",
       "        [1529.2742],\n",
       "        [1811.5730],\n",
       "        [1383.7874]], grad_fn=<ScatterAddBackward>)"
      ]
     },
     "execution_count": 257,
     "metadata": {},
     "output_type": "execute_result"
    }
   ],
   "source": [
    "out"
   ]
  },
  {
   "cell_type": "code",
   "execution_count": 255,
   "metadata": {},
   "outputs": [
    {
     "data": {
      "text/plain": [
       "tensor([[1200.],\n",
       "        [1500.],\n",
       "        [2000.],\n",
       "        [1780.],\n",
       "        [1450.],\n",
       "        [3000.]])"
      ]
     },
     "execution_count": 255,
     "metadata": {},
     "output_type": "execute_result"
    }
   ],
   "source": [
    "data.y"
   ]
  },
  {
   "cell_type": "code",
   "execution_count": 259,
   "metadata": {},
   "outputs": [
    {
     "data": {
      "text/plain": [
       "tensor([[1343.0757],\n",
       "        [1520.0787],\n",
       "        [1515.5769],\n",
       "        [1617.8693],\n",
       "        [1525.1107],\n",
       "        [1436.1665],\n",
       "        [1602.4352],\n",
       "        [1436.2610],\n",
       "        [1433.9021]], grad_fn=<ScatterAddBackward>)"
      ]
     },
     "execution_count": 259,
     "metadata": {},
     "output_type": "execute_result"
    }
   ],
   "source": [
    "model(data_test)"
   ]
  },
  {
   "cell_type": "code",
   "execution_count": 263,
   "metadata": {},
   "outputs": [
    {
     "data": {
      "text/plain": [
       "tensor([[ 961.5178],\n",
       "        [1239.0460],\n",
       "        [ 826.8729],\n",
       "        [ 826.8729],\n",
       "        [1106.6467],\n",
       "        [ 826.8729]], grad_fn=<ScatterAddBackward>)"
      ]
     },
     "execution_count": 263,
     "metadata": {},
     "output_type": "execute_result"
    }
   ],
   "source": [
    "model(data)"
   ]
  },
  {
   "cell_type": "code",
   "execution_count": null,
   "metadata": {},
   "outputs": [],
   "source": []
  }
 ],
 "metadata": {
  "kernelspec": {
   "display_name": "Python 3",
   "language": "python",
   "name": "python3"
  },
  "language_info": {
   "codemirror_mode": {
    "name": "ipython",
    "version": 3
   },
   "file_extension": ".py",
   "mimetype": "text/x-python",
   "name": "python",
   "nbconvert_exporter": "python",
   "pygments_lexer": "ipython3",
   "version": "3.7.3"
  }
 },
 "nbformat": 4,
 "nbformat_minor": 2
}
