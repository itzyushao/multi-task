{
 "cells": [
  {
   "cell_type": "code",
   "execution_count": 1,
   "metadata": {},
   "outputs": [],
   "source": [
    "from sklearn.neighbors import DistanceMetric\n",
    "from math import radians\n",
    "import pandas as pd\n",
    "import numpy as np\n",
    "import networkx as nx\n",
    "import matplotlib.pyplot as plt\n",
    "import scipy.sparse\n",
    "import torch\n",
    "from torch.utils.dlpack import to_dlpack, from_dlpack\n",
    "from torch import Tensor\n",
    "import torch_geometric\n",
    "from torch_geometric.utils import to_undirected, is_undirected, convert\n",
    "from torch_geometric.data import Data\n",
    "from torch_geometric.utils.convert import from_networkx\n",
    "#from torch_geometric.nn import GCNConv\n",
    "import torch.nn.functional as F\n",
    "pd.options.mode.chained_assignment = None\n",
    "\n",
    "def MAPELoss(output, target):\n",
    "    return torch.mean(torch.abs((target - output) / target))  "
   ]
  },
  {
   "cell_type": "markdown",
   "metadata": {},
   "source": [
    "### Generate Sample Data"
   ]
  },
  {
   "cell_type": "code",
   "execution_count": 7,
   "metadata": {},
   "outputs": [
    {
     "data": {
      "text/html": [
       "<div>\n",
       "<style scoped>\n",
       "    .dataframe tbody tr th:only-of-type {\n",
       "        vertical-align: middle;\n",
       "    }\n",
       "\n",
       "    .dataframe tbody tr th {\n",
       "        vertical-align: top;\n",
       "    }\n",
       "\n",
       "    .dataframe thead th {\n",
       "        text-align: right;\n",
       "    }\n",
       "</style>\n",
       "<table border=\"1\" class=\"dataframe\">\n",
       "  <thead>\n",
       "    <tr style=\"text-align: right;\">\n",
       "      <th></th>\n",
       "      <th>house</th>\n",
       "      <th>lat</th>\n",
       "      <th>lon</th>\n",
       "      <th>x1</th>\n",
       "      <th>x2</th>\n",
       "      <th>y</th>\n",
       "      <th>mask</th>\n",
       "    </tr>\n",
       "  </thead>\n",
       "  <tbody>\n",
       "    <tr>\n",
       "      <th>0</th>\n",
       "      <td>h1</td>\n",
       "      <td>12.9716</td>\n",
       "      <td>77.5946</td>\n",
       "      <td>20</td>\n",
       "      <td>5</td>\n",
       "      <td>1200</td>\n",
       "      <td>False</td>\n",
       "    </tr>\n",
       "    <tr>\n",
       "      <th>1</th>\n",
       "      <td>h2</td>\n",
       "      <td>19.0760</td>\n",
       "      <td>72.8770</td>\n",
       "      <td>35</td>\n",
       "      <td>5</td>\n",
       "      <td>1500</td>\n",
       "      <td>False</td>\n",
       "    </tr>\n",
       "    <tr>\n",
       "      <th>2</th>\n",
       "      <td>h3</td>\n",
       "      <td>28.7041</td>\n",
       "      <td>77.1025</td>\n",
       "      <td>24</td>\n",
       "      <td>7</td>\n",
       "      <td>2000</td>\n",
       "      <td>False</td>\n",
       "    </tr>\n",
       "    <tr>\n",
       "      <th>3</th>\n",
       "      <td>h4</td>\n",
       "      <td>22.5726</td>\n",
       "      <td>80.6390</td>\n",
       "      <td>33</td>\n",
       "      <td>13</td>\n",
       "      <td>1780</td>\n",
       "      <td>False</td>\n",
       "    </tr>\n",
       "    <tr>\n",
       "      <th>4</th>\n",
       "      <td>h5</td>\n",
       "      <td>13.0827</td>\n",
       "      <td>80.2707</td>\n",
       "      <td>35</td>\n",
       "      <td>16</td>\n",
       "      <td>1450</td>\n",
       "      <td>False</td>\n",
       "    </tr>\n",
       "    <tr>\n",
       "      <th>5</th>\n",
       "      <td>h6</td>\n",
       "      <td>23.2599</td>\n",
       "      <td>77.4126</td>\n",
       "      <td>18</td>\n",
       "      <td>21</td>\n",
       "      <td>3000</td>\n",
       "      <td>False</td>\n",
       "    </tr>\n",
       "    <tr>\n",
       "      <th>6</th>\n",
       "      <td>t1</td>\n",
       "      <td>12.9713</td>\n",
       "      <td>77.5920</td>\n",
       "      <td>19</td>\n",
       "      <td>6</td>\n",
       "      <td>1300</td>\n",
       "      <td>True</td>\n",
       "    </tr>\n",
       "    <tr>\n",
       "      <th>7</th>\n",
       "      <td>t2</td>\n",
       "      <td>19.0030</td>\n",
       "      <td>72.8605</td>\n",
       "      <td>32</td>\n",
       "      <td>6</td>\n",
       "      <td>1600</td>\n",
       "      <td>True</td>\n",
       "    </tr>\n",
       "    <tr>\n",
       "      <th>8</th>\n",
       "      <td>t3</td>\n",
       "      <td>28.7048</td>\n",
       "      <td>77.2000</td>\n",
       "      <td>23</td>\n",
       "      <td>6</td>\n",
       "      <td>1800</td>\n",
       "      <td>True</td>\n",
       "    </tr>\n",
       "  </tbody>\n",
       "</table>\n",
       "</div>"
      ],
      "text/plain": [
       "  house      lat      lon  x1  x2     y   mask\n",
       "0    h1  12.9716  77.5946  20   5  1200  False\n",
       "1    h2  19.0760  72.8770  35   5  1500  False\n",
       "2    h3  28.7041  77.1025  24   7  2000  False\n",
       "3    h4  22.5726  80.6390  33  13  1780  False\n",
       "4    h5  13.0827  80.2707  35  16  1450  False\n",
       "5    h6  23.2599  77.4126  18  21  3000  False\n",
       "6    t1  12.9713  77.5920  19   6  1300   True\n",
       "7    t2  19.0030  72.8605  32   6  1600   True\n",
       "8    t3  28.7048  77.2000  23   6  1800   True"
      ]
     },
     "execution_count": 7,
     "metadata": {},
     "output_type": "execute_result"
    }
   ],
   "source": [
    "cities_df = pd.DataFrame({\n",
    "    'house':['h1','h2','h3','h4','h5','h6','t1','t2','t3'],\n",
    "    'lat':[12.9716,19.076,28.7041,22.5726,13.0827,23.2599,12.9713,19.003,28.7048],\n",
    "    'lon':[77.5946,72.877,77.1025,80.639,80.2707,77.4126,77.5920,72.8605,77.2000],\n",
    "    'x1':[20,35,24,33,35,18,19,32,23],\n",
    "    'x2':[5,5,7,13,16,21,6,6,6],\n",
    "    'y':[1200,1500,2000,1780,1450,3000,1300,1600,1800],\n",
    "    'mask':[False,False,False,False,False,False,True,True,True]})\n",
    "cities_df"
   ]
  },
  {
   "cell_type": "code",
   "execution_count": 8,
   "metadata": {},
   "outputs": [
    {
     "data": {
      "text/html": [
       "<div>\n",
       "<style scoped>\n",
       "    .dataframe tbody tr th:only-of-type {\n",
       "        vertical-align: middle;\n",
       "    }\n",
       "\n",
       "    .dataframe tbody tr th {\n",
       "        vertical-align: top;\n",
       "    }\n",
       "\n",
       "    .dataframe thead th {\n",
       "        text-align: right;\n",
       "    }\n",
       "</style>\n",
       "<table border=\"1\" class=\"dataframe\">\n",
       "  <thead>\n",
       "    <tr style=\"text-align: right;\">\n",
       "      <th></th>\n",
       "      <th>h1</th>\n",
       "      <th>h2</th>\n",
       "      <th>h3</th>\n",
       "      <th>h4</th>\n",
       "      <th>h5</th>\n",
       "      <th>h6</th>\n",
       "      <th>t1</th>\n",
       "      <th>t2</th>\n",
       "      <th>t3</th>\n",
       "    </tr>\n",
       "  </thead>\n",
       "  <tbody>\n",
       "    <tr>\n",
       "      <th>h1</th>\n",
       "      <td>0.000000</td>\n",
       "      <td>845.628325</td>\n",
       "      <td>1750.664163</td>\n",
       "      <td>1115.398072</td>\n",
       "      <td>290.263116</td>\n",
       "      <td>1144.527052</td>\n",
       "      <td>0.283787</td>\n",
       "      <td>840.242766</td>\n",
       "      <td>1750.477562</td>\n",
       "    </tr>\n",
       "    <tr>\n",
       "      <th>h2</th>\n",
       "      <td>845.628325</td>\n",
       "      <td>0.000000</td>\n",
       "      <td>1153.629733</td>\n",
       "      <td>895.568328</td>\n",
       "      <td>1033.479952</td>\n",
       "      <td>661.621084</td>\n",
       "      <td>845.489790</td>\n",
       "      <td>8.303050</td>\n",
       "      <td>1157.417037</td>\n",
       "    </tr>\n",
       "    <tr>\n",
       "      <th>h3</th>\n",
       "      <td>1750.664163</td>\n",
       "      <td>1153.629733</td>\n",
       "      <td>0.000000</td>\n",
       "      <td>768.561737</td>\n",
       "      <td>1768.206317</td>\n",
       "      <td>606.349722</td>\n",
       "      <td>1750.689713</td>\n",
       "      <td>1161.831857</td>\n",
       "      <td>9.512484</td>\n",
       "    </tr>\n",
       "    <tr>\n",
       "      <th>h4</th>\n",
       "      <td>1115.398072</td>\n",
       "      <td>895.568328</td>\n",
       "      <td>768.561737</td>\n",
       "      <td>0.000000</td>\n",
       "      <td>1056.278018</td>\n",
       "      <td>339.263770</td>\n",
       "      <td>1115.509490</td>\n",
       "      <td>900.832222</td>\n",
       "      <td>764.176288</td>\n",
       "    </tr>\n",
       "    <tr>\n",
       "      <th>h5</th>\n",
       "      <td>290.263116</td>\n",
       "      <td>1033.479952</td>\n",
       "      <td>1768.206317</td>\n",
       "      <td>1056.278018</td>\n",
       "      <td>0.000000</td>\n",
       "      <td>1171.476936</td>\n",
       "      <td>290.546208</td>\n",
       "      <td>1029.735636</td>\n",
       "      <td>1766.441052</td>\n",
       "    </tr>\n",
       "    <tr>\n",
       "      <th>h6</th>\n",
       "      <td>1144.527052</td>\n",
       "      <td>661.621084</td>\n",
       "      <td>606.349722</td>\n",
       "      <td>339.263770</td>\n",
       "      <td>1171.476936</td>\n",
       "      <td>0.000000</td>\n",
       "      <td>1144.555845</td>\n",
       "      <td>668.642547</td>\n",
       "      <td>606.007783</td>\n",
       "    </tr>\n",
       "    <tr>\n",
       "      <th>t1</th>\n",
       "      <td>0.283787</td>\n",
       "      <td>845.489790</td>\n",
       "      <td>1750.689713</td>\n",
       "      <td>1115.509490</td>\n",
       "      <td>290.546208</td>\n",
       "      <td>1144.555845</td>\n",
       "      <td>0.000000</td>\n",
       "      <td>840.102374</td>\n",
       "      <td>1750.504667</td>\n",
       "    </tr>\n",
       "    <tr>\n",
       "      <th>t2</th>\n",
       "      <td>840.242766</td>\n",
       "      <td>8.303050</td>\n",
       "      <td>1161.831857</td>\n",
       "      <td>900.832222</td>\n",
       "      <td>1029.735636</td>\n",
       "      <td>668.642547</td>\n",
       "      <td>840.102374</td>\n",
       "      <td>0.000000</td>\n",
       "      <td>1165.609158</td>\n",
       "    </tr>\n",
       "    <tr>\n",
       "      <th>t3</th>\n",
       "      <td>1750.477562</td>\n",
       "      <td>1157.417037</td>\n",
       "      <td>9.512484</td>\n",
       "      <td>764.176288</td>\n",
       "      <td>1766.441052</td>\n",
       "      <td>606.007783</td>\n",
       "      <td>1750.504667</td>\n",
       "      <td>1165.609158</td>\n",
       "      <td>0.000000</td>\n",
       "    </tr>\n",
       "  </tbody>\n",
       "</table>\n",
       "</div>"
      ],
      "text/plain": [
       "             h1           h2           h3           h4           h5  \\\n",
       "h1     0.000000   845.628325  1750.664163  1115.398072   290.263116   \n",
       "h2   845.628325     0.000000  1153.629733   895.568328  1033.479952   \n",
       "h3  1750.664163  1153.629733     0.000000   768.561737  1768.206317   \n",
       "h4  1115.398072   895.568328   768.561737     0.000000  1056.278018   \n",
       "h5   290.263116  1033.479952  1768.206317  1056.278018     0.000000   \n",
       "h6  1144.527052   661.621084   606.349722   339.263770  1171.476936   \n",
       "t1     0.283787   845.489790  1750.689713  1115.509490   290.546208   \n",
       "t2   840.242766     8.303050  1161.831857   900.832222  1029.735636   \n",
       "t3  1750.477562  1157.417037     9.512484   764.176288  1766.441052   \n",
       "\n",
       "             h6           t1           t2           t3  \n",
       "h1  1144.527052     0.283787   840.242766  1750.477562  \n",
       "h2   661.621084   845.489790     8.303050  1157.417037  \n",
       "h3   606.349722  1750.689713  1161.831857     9.512484  \n",
       "h4   339.263770  1115.509490   900.832222   764.176288  \n",
       "h5  1171.476936   290.546208  1029.735636  1766.441052  \n",
       "h6     0.000000  1144.555845   668.642547   606.007783  \n",
       "t1  1144.555845     0.000000   840.102374  1750.504667  \n",
       "t2   668.642547   840.102374     0.000000  1165.609158  \n",
       "t3   606.007783  1750.504667  1165.609158     0.000000  "
      ]
     },
     "execution_count": 8,
     "metadata": {},
     "output_type": "execute_result"
    }
   ],
   "source": [
    "cities_df['lat'] = np.radians(cities_df['lat'])\n",
    "cities_df['lon'] = np.radians(cities_df['lon'])\n",
    "\n",
    "dist = DistanceMetric.get_metric('haversine')\n",
    "\n",
    "cities_df[['lat','lon']].to_numpy()\n",
    "\n",
    "df_dist = pd.DataFrame(dist.pairwise(cities_df[['lat','lon']].to_numpy())*6373,  columns=cities_df.house.unique(), index=cities_df.house.unique())\n",
    "df_dist"
   ]
  },
  {
   "cell_type": "code",
   "execution_count": 9,
   "metadata": {},
   "outputs": [
    {
     "name": "stderr",
     "output_type": "stream",
     "text": [
      "/Users/shao/anaconda3/lib/python3.7/site-packages/networkx/drawing/nx_pylab.py:579: MatplotlibDeprecationWarning: \n",
      "The iterable function was deprecated in Matplotlib 3.1 and will be removed in 3.3. Use np.iterable instead.\n",
      "  if not cb.iterable(width):\n",
      "/Users/shao/anaconda3/lib/python3.7/site-packages/networkx/drawing/nx_pylab.py:585: MatplotlibDeprecationWarning: \n",
      "The iterable function was deprecated in Matplotlib 3.1 and will be removed in 3.3. Use np.iterable instead.\n",
      "  and cb.iterable(edge_color) \\\n",
      "/Users/shao/anaconda3/lib/python3.7/site-packages/networkx/drawing/nx_pylab.py:595: MatplotlibDeprecationWarning: \n",
      "The iterable function was deprecated in Matplotlib 3.1 and will be removed in 3.3. Use np.iterable instead.\n",
      "  for c in edge_color]):\n"
     ]
    },
    {
     "data": {
      "image/png": "[encoded data removed]",
      "text/plain": [
       "<Figure size 432x288 with 1 Axes>"
      ]
     },
     "metadata": {},
     "output_type": "display_data"
    }
   ],
   "source": [
    "G = nx.from_numpy_matrix(df_dist.values)\n",
    "nx.draw(G, edge_color = [i[2]['weight'] for i in G.edges(data=True)], edge_cmap = plt.cm.Blues)"
   ]
  },
  {
   "cell_type": "code",
   "execution_count": 10,
   "metadata": {},
   "outputs": [
    {
     "data": {
      "text/plain": [
       "array([[1., 0., 0., 0., 1., 0., 1., 0., 0.],\n",
       "       [0., 1., 0., 0., 0., 1., 0., 1., 0.],\n",
       "       [0., 0., 1., 1., 0., 1., 0., 0., 1.],\n",
       "       [0., 0., 1., 1., 0., 1., 0., 0., 1.],\n",
       "       [1., 0., 0., 0., 1., 0., 1., 0., 0.],\n",
       "       [0., 1., 1., 1., 0., 1., 0., 1., 1.],\n",
       "       [1., 0., 0., 0., 1., 0., 1., 0., 0.],\n",
       "       [0., 1., 0., 0., 0., 1., 0., 1., 0.],\n",
       "       [0., 0., 1., 1., 0., 1., 0., 0., 1.]])"
      ]
     },
     "execution_count": 10,
     "metadata": {},
     "output_type": "execute_result"
    }
   ],
   "source": [
    "D = df_dist.values\n",
    "D[D <800] = 1\n",
    "D[D >=800] = 0\n",
    "D"
   ]
  },
  {
   "cell_type": "code",
   "execution_count": 11,
   "metadata": {},
   "outputs": [
    {
     "data": {
      "image/png": "[encoded data removed]",
      "text/plain": [
       "<Figure size 432x288 with 1 Axes>"
      ]
     },
     "metadata": {},
     "output_type": "display_data"
    }
   ],
   "source": [
    "G = nx.from_numpy_matrix(D)\n",
    "nx.draw(G, edge_color = '#E28F83')"
   ]
  },
  {
   "cell_type": "markdown",
   "metadata": {},
   "source": [
    "### Training Testing Spilt"
   ]
  },
  {
   "cell_type": "code",
   "execution_count": 25,
   "metadata": {},
   "outputs": [],
   "source": [
    "def geo_transform(df, m):\n",
    "    df['lat'] = np.radians(df['lat'])\n",
    "    df['lon'] = np.radians(df['lon'])\n",
    "    \n",
    "    dist = DistanceMetric.get_metric('haversine')\n",
    "    \n",
    "    df_dist = pd.DataFrame(dist.pairwise(df[['lat','lon']].to_numpy())*6373,  columns=df.house.unique(), index=df.house.unique())\n",
    "    \n",
    "    D = df_dist.values\n",
    "    D[D < m] = 1\n",
    "    D[D >= m] = 0\n",
    "    \n",
    "    G = nx.from_numpy_matrix(D)\n",
    "    edge_index = from_networkx(G).edge_index\n",
    "    \n",
    "    x = torch.tensor(df[['x1','x2']].values, dtype=torch.float)\n",
    "    y = torch.tensor(df[['y']].values, dtype=torch.float)\n",
    "    mask = torch.BoolTensor(df[['mask']].values)\n",
    "    \n",
    "    data = Data(x=x, y=y, edge_index=edge_index)\n",
    "    \n",
    "    \n",
    "    return edge_index, x, y, mask, data, G"
   ]
  },
  {
   "cell_type": "code",
   "execution_count": 26,
   "metadata": {},
   "outputs": [],
   "source": [
    "edge_index, x, y, mask, data, G = geo_transform(cities_df, 800)"
   ]
  },
  {
   "cell_type": "code",
   "execution_count": 27,
   "metadata": {},
   "outputs": [
    {
     "data": {
      "text/plain": [
       "tensor([[0, 0, 0, 0, 0, 0, 0, 0, 0, 1, 1, 1, 1, 1, 1, 1, 1, 1, 2, 2, 2, 2, 2, 2,\n",
       "         2, 2, 2, 3, 3, 3, 3, 3, 3, 3, 3, 3, 4, 4, 4, 4, 4, 4, 4, 4, 4, 5, 5, 5,\n",
       "         5, 5, 5, 5, 5, 5, 6, 6, 6, 6, 6, 6, 6, 6, 6, 7, 7, 7, 7, 7, 7, 7, 7, 7,\n",
       "         8, 8, 8, 8, 8, 8, 8, 8, 8],\n",
       "        [0, 1, 2, 3, 4, 5, 6, 7, 8, 0, 1, 2, 3, 4, 5, 6, 7, 8, 0, 1, 2, 3, 4, 5,\n",
       "         6, 7, 8, 0, 1, 2, 3, 4, 5, 6, 7, 8, 0, 1, 2, 3, 4, 5, 6, 7, 8, 0, 1, 2,\n",
       "         3, 4, 5, 6, 7, 8, 0, 1, 2, 3, 4, 5, 6, 7, 8, 0, 1, 2, 3, 4, 5, 6, 7, 8,\n",
       "         0, 1, 2, 3, 4, 5, 6, 7, 8]])"
      ]
     },
     "execution_count": 27,
     "metadata": {},
     "output_type": "execute_result"
    }
   ],
   "source": [
    "edge_index"
   ]
  },
  {
   "cell_type": "code",
   "execution_count": 28,
   "metadata": {},
   "outputs": [
    {
     "data": {
      "text/plain": [
       "tensor([[20.,  5.],\n",
       "        [35.,  5.],\n",
       "        [24.,  7.],\n",
       "        [33., 13.],\n",
       "        [35., 16.],\n",
       "        [18., 21.],\n",
       "        [19.,  6.],\n",
       "        [32.,  6.],\n",
       "        [23.,  6.]])"
      ]
     },
     "execution_count": 28,
     "metadata": {},
     "output_type": "execute_result"
    }
   ],
   "source": [
    "x"
   ]
  },
  {
   "cell_type": "code",
   "execution_count": 29,
   "metadata": {},
   "outputs": [
    {
     "data": {
      "text/plain": [
       "tensor([[1200.],\n",
       "        [1500.],\n",
       "        [2000.],\n",
       "        [1780.],\n",
       "        [1450.],\n",
       "        [3000.],\n",
       "        [1300.],\n",
       "        [1600.],\n",
       "        [1800.]])"
      ]
     },
     "execution_count": 29,
     "metadata": {},
     "output_type": "execute_result"
    }
   ],
   "source": [
    "y"
   ]
  },
  {
   "cell_type": "code",
   "execution_count": 30,
   "metadata": {},
   "outputs": [
    {
     "data": {
      "text/plain": [
       "tensor([[False],\n",
       "        [False],\n",
       "        [False],\n",
       "        [False],\n",
       "        [False],\n",
       "        [False],\n",
       "        [ True],\n",
       "        [ True],\n",
       "        [ True]])"
      ]
     },
     "execution_count": 30,
     "metadata": {},
     "output_type": "execute_result"
    }
   ],
   "source": [
    "mask"
   ]
  },
  {
   "cell_type": "code",
   "execution_count": 18,
   "metadata": {},
   "outputs": [
    {
     "data": {
      "text/plain": [
       "Data(edge_index=[2, 81], x=[9, 2], y=[9, 1])"
      ]
     },
     "execution_count": 18,
     "metadata": {},
     "output_type": "execute_result"
    }
   ],
   "source": [
    "data"
   ]
  },
  {
   "cell_type": "code",
   "execution_count": 17,
   "metadata": {},
   "outputs": [],
   "source": [
    "# from torch.utils.data import DataLoader\n",
    "# loader = DataLoader(data, batch_size=512, shuffle=True)"
   ]
  },
  {
   "cell_type": "markdown",
   "metadata": {},
   "source": [
    "# pilot"
   ]
  },
  {
   "cell_type": "code",
   "execution_count": 59,
   "metadata": {},
   "outputs": [],
   "source": [
    "import torch\n",
    "from torch_geometric.nn import MessagePassing\n",
    "from torch_geometric.utils import add_self_loops, degree\n",
    "\n",
    "class GCNConv(MessagePassing):\n",
    "    def __init__(self, in_channels, out_channels):\n",
    "        super(GCNConv, self).__init__(aggr='add')\n",
    "        self.lin = torch.nn.Linear(in_channels, out_channels)\n",
    "\n",
    "    def forward(self, x, edge_index):\n",
    "        # Step 1: Add self-loops\n",
    "        edge_index, _ = add_self_loops(edge_index, num_nodes=x.size(0))\n",
    "\n",
    "        # Step 2: Multiply with weights\n",
    "        x = self.lin(x)\n",
    "\n",
    "        # Step 3: Calculate the normalization\n",
    "        row, col = edge_index\n",
    "        deg = degree(row, x.size(0), dtype=x.dtype)\n",
    "        deg_inv_sqrt = deg.pow(-0.5)\n",
    "        norm = deg_inv_sqrt[row] * deg_inv_sqrt[col]\n",
    "\n",
    "        # Step 4: Propagate the embeddings to the next layer\n",
    "        return self.propagate(edge_index, size=(x.size(0), x.size(0)), x=x,\n",
    "                              norm=norm)\n",
    "\n",
    "    def message(self, x_j, norm):\n",
    "        # Normalize node features.\n",
    "        return norm.view(-1, 1) * x_j"
   ]
  },
  {
   "cell_type": "code",
   "execution_count": 60,
   "metadata": {},
   "outputs": [],
   "source": [
    "import torch\n",
    "import torch.nn.functional as F\n",
    "\n",
    "class Net(torch.nn.Module):\n",
    "    def __init__(self, dataset):\n",
    "        super(Net, self).__init__()\n",
    "        self.conv1 = GCNConv(dataset.num_node_features, 2)\n",
    "        self.conv2 = GCNConv(2, 1)\n",
    "\n",
    "    def forward(self, data):\n",
    "        x, edge_index = data.x, data.edge_index\n",
    "\n",
    "        x = self.conv1(x, edge_index)\n",
    "        x = F.relu(x)\n",
    "        x = F.dropout(x, training=self.training)\n",
    "        x = self.conv2(x, edge_index)\n",
    "\n",
    "        return x"
   ]
  },
  {
   "cell_type": "code",
   "execution_count": 61,
   "metadata": {},
   "outputs": [],
   "source": [
    "device = torch.device('cuda' if torch.cuda.is_available() else 'cpu')\n",
    "model = Net(data).to(device)\n",
    "data = data.to(device)\n",
    "optimizer = torch.optim.Adam(model.parameters(), lr=0.001, weight_decay=5e-4)"
   ]
  },
  {
   "cell_type": "code",
   "execution_count": 62,
   "metadata": {},
   "outputs": [
    {
     "name": "stdout",
     "output_type": "stream",
     "text": [
      "Epoch [1000/10000], Loss: 0.9070\n",
      "Epoch [2000/10000], Loss: 0.9047\n",
      "Epoch [3000/10000], Loss: 0.5106\n",
      "Epoch [4000/10000], Loss: 0.5093\n",
      "Epoch [5000/10000], Loss: 0.4794\n",
      "Epoch [6000/10000], Loss: 0.2555\n",
      "Epoch [7000/10000], Loss: 0.6035\n",
      "Epoch [8000/10000], Loss: 0.6053\n",
      "Epoch [9000/10000], Loss: 0.2542\n",
      "Epoch [10000/10000], Loss: 0.2081\n"
     ]
    }
   ],
   "source": [
    "num_epochs = 10000\n",
    "\n",
    "model.train()\n",
    "for epoch in range(num_epochs):\n",
    "    optimizer.zero_grad()\n",
    "    \n",
    "    out = model(data)\n",
    "    loss = MAPELoss(out[mask], data.y[mask])\n",
    "    loss.backward()\n",
    "  \n",
    "    optimizer.step()\n",
    "    # Print the progress\n",
    "    if (epoch+1) % 1000 == 0:\n",
    "        print('Epoch [{}/{}], Loss: {:.4f}'.format(epoch+1, num_epochs, loss.item()))"
   ]
  },
  {
   "cell_type": "code",
   "execution_count": 32,
   "metadata": {},
   "outputs": [
    {
     "data": {
      "text/plain": [
       "tensor([[1355.4005],\n",
       "        [1365.9519],\n",
       "        [1146.4622],\n",
       "        [1147.6323],\n",
       "        [1148.0065],\n",
       "        [1363.7111],\n",
       "        [1145.9718],\n",
       "        [1117.7850],\n",
       "        [1386.6423]], grad_fn=<ScatterAddBackward>)"
      ]
     },
     "execution_count": 32,
     "metadata": {},
     "output_type": "execute_result"
    }
   ],
   "source": [
    "out"
   ]
  },
  {
   "cell_type": "code",
   "execution_count": 33,
   "metadata": {},
   "outputs": [
    {
     "data": {
      "text/plain": [
       "tensor([[1200.],\n",
       "        [1500.],\n",
       "        [2000.],\n",
       "        [1780.],\n",
       "        [1450.],\n",
       "        [3000.],\n",
       "        [1300.],\n",
       "        [1600.],\n",
       "        [1800.]])"
      ]
     },
     "execution_count": 33,
     "metadata": {},
     "output_type": "execute_result"
    }
   ],
   "source": [
    "data.y"
   ]
  },
  {
   "cell_type": "code",
   "execution_count": 38,
   "metadata": {},
   "outputs": [
    {
     "data": {
      "text/plain": [
       "tensor([[1710.4097],\n",
       "        [1711.6759],\n",
       "        [1710.8844],\n",
       "        [1963.6873],\n",
       "        [1967.2905],\n",
       "        [1957.2759],\n",
       "        [1919.7266],\n",
       "        [1958.1682],\n",
       "        [1922.5404]], grad_fn=<ScatterAddBackward>)"
      ]
     },
     "execution_count": 38,
     "metadata": {},
     "output_type": "execute_result"
    }
   ],
   "source": [
    "model(data)"
   ]
  },
  {
   "cell_type": "markdown",
   "metadata": {},
   "source": [
    "# edge_weight"
   ]
  },
  {
   "cell_type": "code",
   "execution_count": 80,
   "metadata": {},
   "outputs": [],
   "source": [
    "from torch_geometric.nn import GCNConv\n",
    "\n",
    "class Net(torch.nn.Module):\n",
    "    def __init__(self):\n",
    "        super(Net, self).__init__()\n",
    "        self.edge_weight = torch.nn.Parameter(torch.ones(data.num_edges))\n",
    "        self.conv1 = GCNConv(2, 16)\n",
    "        self.conv2 = GCNConv(16, 1)\n",
    "\n",
    "    def forward(self, data):\n",
    "        x, edge_index = data.x, data.edge_index\n",
    "        x = F.dropout(x, p=0.5, training=self.training)\n",
    "        x = self.conv1(x, edge_index, self.edge_weight.sigmoid()).relu()\n",
    "        x = F.dropout(x, p=0.5, training=self.training)\n",
    "        x = self.conv2(x, edge_index, self.edge_weight.sigmoid())\n",
    "        return x\n",
    "    \n",
    "\n",
    "device = torch.device('cuda' if torch.cuda.is_available() else 'cpu')\n",
    "model, data = Net().to(device), data.to(device)\n",
    "optimizer = torch.optim.Adam(model.parameters(), lr=0.01, weight_decay=5e-4)\n",
    "\n",
    "\n",
    "def train():\n",
    "    model.train()\n",
    "    optimizer.zero_grad()\n",
    "    out = model(data)\n",
    "    F.MAPELoss(out[mask], data.y[mask]).backward()\n",
    "    optimizer.step()"
   ]
  },
  {
   "cell_type": "code",
   "execution_count": 81,
   "metadata": {},
   "outputs": [
    {
     "name": "stdout",
     "output_type": "stream",
     "text": [
      "Epoch [1000/10000], Loss: 0.4176\n",
      "Epoch [2000/10000], Loss: 0.0411\n",
      "Epoch [3000/10000], Loss: 0.0406\n",
      "Epoch [4000/10000], Loss: 0.2943\n",
      "Epoch [5000/10000], Loss: 0.2612\n",
      "Epoch [6000/10000], Loss: 0.2572\n",
      "Epoch [7000/10000], Loss: 0.0277\n",
      "Epoch [8000/10000], Loss: 0.3925\n",
      "Epoch [9000/10000], Loss: 0.4273\n",
      "Epoch [10000/10000], Loss: 0.4915\n"
     ]
    }
   ],
   "source": [
    "num_epochs = 10\n",
    "\n",
    "model.train()\n",
    "for epoch in range(num_epochs):\n",
    "    optimizer.zero_grad()\n",
    "    \n",
    "    out = model(data)\n",
    "    loss = MAPELoss(out[mask], data.y[mask])\n",
    "    loss.backward()\n",
    "  \n",
    "    optimizer.step()\n",
    "    # Print the progress\n",
    "    if (epoch+1) % 1000 == 0:\n",
    "        print('Epoch [{}/{}], Loss: {:.4f}'.format(epoch+1, num_epochs, loss.item()))"
   ]
  },
  {
   "cell_type": "code",
   "execution_count": 84,
   "metadata": {},
   "outputs": [
    {
     "name": "stdout",
     "output_type": "stream",
     "text": [
      "Epoch [1000/10000], Loss: 0.4915\n",
      "Parameter containing:\n",
      "tensor([ 0.0898,  0.1096,  0.0174,  0.1448,  0.1741,  0.0037,  0.6428,  0.8486,\n",
      "         0.8878, -0.4238, -0.4936, -0.4824, -0.4416, -0.3422, -0.5520,  0.1722,\n",
      "         0.3311,  0.4884, -0.1203, -0.0990, -0.0764, -0.0619, -0.0950, -0.1194,\n",
      "         0.5321,  0.6646,  0.8029, -0.3461, -0.5435, -0.4180, -0.2978, -0.3609,\n",
      "        -0.4959,  0.2770,  0.4638,  0.5651, -0.5676, -0.5755, -0.3321, -0.4221,\n",
      "        -0.3541, -0.5195,  0.3539,  0.4996,  0.6040, -0.0599, -0.1998, -0.2720,\n",
      "        -0.1216, -0.1430, -0.0913,  0.3711,  0.4936,  0.6826, -0.1601, -0.2054,\n",
      "        -0.2004, -0.2141, -0.1313, -0.1723,  0.4012,  0.7326,  0.9202, -0.5098,\n",
      "        -0.5359, -0.5422, -0.4872, -0.4816, -0.4593, -0.2202,  0.1296,  0.4572,\n",
      "        -0.5944, -0.6326, -0.6229, -0.6640, -0.5706, -0.6738, -0.4050, -0.0410,\n",
      "         0.2744], requires_grad=True)\n",
      "Epoch [2000/10000], Loss: 0.4915\n",
      "Parameter containing:\n",
      "tensor([ 0.0898,  0.1096,  0.0174,  0.1448,  0.1741,  0.0037,  0.6428,  0.8486,\n",
      "         0.8878, -0.4238, -0.4936, -0.4824, -0.4416, -0.3422, -0.5520,  0.1722,\n",
      "         0.3311,  0.4884, -0.1203, -0.0990, -0.0764, -0.0619, -0.0950, -0.1194,\n",
      "         0.5321,  0.6646,  0.8029, -0.3461, -0.5435, -0.4180, -0.2978, -0.3609,\n",
      "        -0.4959,  0.2770,  0.4638,  0.5651, -0.5676, -0.5755, -0.3321, -0.4221,\n",
      "        -0.3541, -0.5195,  0.3539,  0.4996,  0.6040, -0.0599, -0.1998, -0.2720,\n",
      "        -0.1216, -0.1430, -0.0913,  0.3711,  0.4936,  0.6826, -0.1601, -0.2054,\n",
      "        -0.2004, -0.2141, -0.1313, -0.1723,  0.4012,  0.7326,  0.9202, -0.5098,\n",
      "        -0.5359, -0.5422, -0.4872, -0.4816, -0.4593, -0.2202,  0.1296,  0.4572,\n",
      "        -0.5944, -0.6326, -0.6229, -0.6640, -0.5706, -0.6738, -0.4050, -0.0410,\n",
      "         0.2744], requires_grad=True)\n"
     ]
    }
   ],
   "source": [
    "for epoch in range(2000):\n",
    "    model.train()\n",
    "    \n",
    "    # Print the progress\n",
    "    if (epoch+1) % 1000 == 0:\n",
    "        print('Epoch [{}/{}], Loss: {:.4f}'.format(epoch+1, num_epochs, loss.item()))\n",
    "        print(model.edge_weight)"
   ]
  },
  {
   "cell_type": "code",
   "execution_count": null,
   "metadata": {},
   "outputs": [],
   "source": []
  },
  {
   "cell_type": "code",
   "execution_count": 26,
   "metadata": {},
   "outputs": [
    {
     "name": "stderr",
     "output_type": "stream",
     "text": [
      "Using backend: pytorch\n"
     ]
    }
   ],
   "source": [
    "from dgl import DGLGraph\n",
    "from dgl.data import citation_graph as citegrh\n",
    "import networkx as nx"
   ]
  },
  {
   "cell_type": "code",
   "execution_count": 27,
   "metadata": {},
   "outputs": [
    {
     "name": "stderr",
     "output_type": "stream",
     "text": [
      "/Users/shao/anaconda3/lib/python3.7/site-packages/dgl/base.py:45: DGLWarning: Recommend creating graphs by `dgl.graph(data)` instead of `dgl.DGLGraph(data)`.\n",
      "  return warnings.warn(message, category=category, stacklevel=1)\n"
     ]
    }
   ],
   "source": [
    "g = DGLGraph(nx.from_numpy_matrix(D))\n",
    "features = x_test\n",
    "labels = y_test\n",
    "mask = torch.BoolTensor(cities_df[['mask']].values)"
   ]
  },
  {
   "cell_type": "code",
   "execution_count": 28,
   "metadata": {},
   "outputs": [
    {
     "data": {
      "text/plain": [
       "Graph(num_nodes=9, num_edges=33,\n",
       "      ndata_schemes={}\n",
       "      edata_schemes={})"
      ]
     },
     "execution_count": 28,
     "metadata": {},
     "output_type": "execute_result"
    }
   ],
   "source": [
    "g"
   ]
  },
  {
   "cell_type": "code",
   "execution_count": 29,
   "metadata": {},
   "outputs": [
    {
     "data": {
      "text/plain": [
       "torch.Size([9, 2])"
      ]
     },
     "execution_count": 29,
     "metadata": {},
     "output_type": "execute_result"
    }
   ],
   "source": [
    "features.shape"
   ]
  },
  {
   "cell_type": "code",
   "execution_count": 30,
   "metadata": {},
   "outputs": [
    {
     "data": {
      "text/plain": [
       "torch.Size([9, 1])"
      ]
     },
     "execution_count": 30,
     "metadata": {},
     "output_type": "execute_result"
    }
   ],
   "source": [
    "labels.shape"
   ]
  },
  {
   "cell_type": "code",
   "execution_count": 31,
   "metadata": {},
   "outputs": [
    {
     "data": {
      "text/plain": [
       "torch.Size([9, 1])"
      ]
     },
     "execution_count": 31,
     "metadata": {},
     "output_type": "execute_result"
    }
   ],
   "source": [
    "mask.shape"
   ]
  },
  {
   "cell_type": "code",
   "execution_count": 32,
   "metadata": {},
   "outputs": [],
   "source": [
    "import torch\n",
    "import torch.nn as nn\n",
    "import torch.nn.functional as F\n",
    "\n",
    "\n",
    "class GATLayer(nn.Module):\n",
    "    def __init__(self, g, in_dim, out_dim):\n",
    "        super(GATLayer, self).__init__()\n",
    "        self.g = g\n",
    "        # equation (1)\n",
    "        self.fc = nn.Linear(in_dim, out_dim, bias=False)\n",
    "        # equation (2)\n",
    "        self.attn_fc = nn.Linear(2 * out_dim, 1, bias=False)\n",
    "        self.reset_parameters()\n",
    "\n",
    "    def reset_parameters(self):\n",
    "        \"\"\"Reinitialize learnable parameters.\"\"\"\n",
    "        gain = nn.init.calculate_gain('relu')\n",
    "        nn.init.xavier_normal_(self.fc.weight, gain=gain)\n",
    "        nn.init.xavier_normal_(self.attn_fc.weight, gain=gain)\n",
    "\n",
    "    def edge_attention(self, edges):\n",
    "        # edge UDF for equation (2)\n",
    "        z2 = torch.cat([edges.src['z'], edges.dst['z']], dim=1)\n",
    "        a = self.attn_fc(z2)\n",
    "        return {'e': F.leaky_relu(a)}\n",
    "\n",
    "    def message_func(self, edges):\n",
    "        # message UDF for equation (3) & (4)\n",
    "        return {'z': edges.src['z'], 'e': edges.data['e']}\n",
    "\n",
    "    def reduce_func(self, nodes):\n",
    "        # reduce UDF for equation (3) & (4)\n",
    "        # equation (3)\n",
    "        alpha = F.softmax(nodes.mailbox['e'], dim=1)\n",
    "        # equation (4)\n",
    "        h = torch.sum(alpha * nodes.mailbox['z'], dim=1)\n",
    "        return {'h': h}\n",
    "\n",
    "    def forward(self, h):\n",
    "        # equation (1)\n",
    "        z = self.fc(h)\n",
    "        self.g.ndata['z'] = z\n",
    "        # equation (2)\n",
    "        self.g.apply_edges(self.edge_attention)\n",
    "        # equation (3) & (4)\n",
    "        self.g.update_all(self.message_func, self.reduce_func)\n",
    "        return self.g.ndata.pop('h')\n",
    "    \n",
    "class MultiHeadGATLayer(nn.Module):\n",
    "    def __init__(self, g, in_dim, out_dim, num_heads, merge='cat'):\n",
    "        super(MultiHeadGATLayer, self).__init__()\n",
    "        self.heads = nn.ModuleList()\n",
    "        for i in range(num_heads):\n",
    "            self.heads.append(GATLayer(g, in_dim, out_dim))\n",
    "        self.merge = merge\n",
    "\n",
    "    def forward(self, h):\n",
    "        head_outs = [attn_head(h) for attn_head in self.heads]\n",
    "        if self.merge == 'cat':\n",
    "            # concat on the output feature dimension (dim=1)\n",
    "            return torch.cat(head_outs, dim=1)\n",
    "        else:\n",
    "            # merge using average\n",
    "            return torch.mean(torch.stack(head_outs))\n",
    "        \n",
    "class GAT(nn.Module):\n",
    "    def __init__(self, g, in_dim, hidden_dim, out_dim, num_heads):\n",
    "        super(GAT, self).__init__()\n",
    "        self.layer1 = MultiHeadGATLayer(g, in_dim, hidden_dim, num_heads)\n",
    "        # Be aware that the input dimension is hidden_dim*num_heads since\n",
    "        # multiple head outputs are concatenated together. Also, only\n",
    "        # one attention head in the output layer.\n",
    "        self.layer2 = MultiHeadGATLayer(g, hidden_dim * num_heads, out_dim, 1)\n",
    "\n",
    "    def forward(self, h):\n",
    "        h = self.layer1(h)\n",
    "        h = F.elu(h)\n",
    "        h = self.layer2(h)\n",
    "        return h"
   ]
  },
  {
   "cell_type": "code",
   "execution_count": 77,
   "metadata": {},
   "outputs": [
    {
     "name": "stdout",
     "output_type": "stream",
     "text": [
      "Epoch 00000 | Loss 1.0194 | Time(s) nan\n",
      "Epoch 00001 | Loss 0.9974 | Time(s) nan\n",
      "Epoch 00002 | Loss 0.9755 | Time(s) nan\n",
      "Epoch 00003 | Loss 0.9535 | Time(s) 0.0073\n",
      "Epoch 00004 | Loss 0.9177 | Time(s) 0.0109\n",
      "Epoch 00005 | Loss 0.8872 | Time(s) 0.0096\n",
      "Epoch 00006 | Loss 0.8453 | Time(s) 0.0094\n",
      "Epoch 00007 | Loss 0.8076 | Time(s) 0.0089\n",
      "Epoch 00008 | Loss 0.7698 | Time(s) 0.0084\n",
      "Epoch 00009 | Loss 0.7279 | Time(s) 0.0082\n",
      "Epoch 00010 | Loss 0.6815 | Time(s) 0.0079\n",
      "Epoch 00011 | Loss 0.6303 | Time(s) 0.0077\n",
      "Epoch 00012 | Loss 0.5741 | Time(s) 0.0075\n",
      "Epoch 00013 | Loss 0.5126 | Time(s) 0.0074\n",
      "Epoch 00014 | Loss 0.4456 | Time(s) 0.0072\n",
      "Epoch 00015 | Loss 0.3728 | Time(s) 0.0071\n",
      "Epoch 00016 | Loss 0.3084 | Time(s) 0.0071\n",
      "Epoch 00017 | Loss 0.2666 | Time(s) 0.0070\n",
      "Epoch 00018 | Loss 0.2459 | Time(s) 0.0069\n",
      "Epoch 00019 | Loss 0.2451 | Time(s) 0.0069\n",
      "Epoch 00020 | Loss 0.2639 | Time(s) 0.0068\n",
      "Epoch 00021 | Loss 0.2799 | Time(s) 0.0068\n",
      "Epoch 00022 | Loss 0.3036 | Time(s) 0.0067\n",
      "Epoch 00023 | Loss 0.3212 | Time(s) 0.0067\n",
      "Epoch 00024 | Loss 0.3290 | Time(s) 0.0066\n",
      "Epoch 00025 | Loss 0.3281 | Time(s) 0.0066\n",
      "Epoch 00026 | Loss 0.3199 | Time(s) 0.0066\n",
      "Epoch 00027 | Loss 0.3055 | Time(s) 0.0066\n",
      "Epoch 00028 | Loss 0.2860 | Time(s) 0.0065\n",
      "Epoch 00029 | Loss 0.2741 | Time(s) 0.0065\n"
     ]
    }
   ],
   "source": [
    "import time\n",
    "import numpy as np\n",
    "\n",
    "# create the model, 2 heads, each head has hidden size 8\n",
    "net = GAT(g,\n",
    "          in_dim=features.size()[1],\n",
    "          hidden_dim=8,\n",
    "          out_dim=1,\n",
    "          num_heads=2)\n",
    "\n",
    "# create optimizer\n",
    "optimizer = torch.optim.Adam(net.parameters(), lr=1e-1)\n",
    "\n",
    "# main loop\n",
    "dur = []\n",
    "for epoch in range(30):\n",
    "    if epoch >= 3:\n",
    "        t0 = time.time()\n",
    "\n",
    "    logits = net(features)\n",
    "    loss = MAPELoss(logits[mask], labels[mask])\n",
    "\n",
    "    optimizer.zero_grad()\n",
    "    loss.backward()\n",
    "    optimizer.step()\n",
    "\n",
    "    if epoch >= 3:\n",
    "        dur.append(time.time() - t0)\n",
    "\n",
    "    print(\"Epoch {:05d} | Loss {:.4f} | Time(s) {:.4f}\".format(\n",
    "        epoch, loss.item(), np.mean(dur)))"
   ]
  },
  {
   "cell_type": "code",
   "execution_count": 78,
   "metadata": {},
   "outputs": [
    {
     "data": {
      "text/plain": [
       "tensor([[1901.8069],\n",
       "        [1718.4963],\n",
       "        [1718.4963],\n",
       "        [1718.4963],\n",
       "        [1901.8069],\n",
       "        [1718.4963],\n",
       "        [1901.8069],\n",
       "        [1718.4963],\n",
       "        [1718.4963]], grad_fn=<CatBackward>)"
      ]
     },
     "execution_count": 78,
     "metadata": {},
     "output_type": "execute_result"
    }
   ],
   "source": [
    "logits"
   ]
  },
  {
   "cell_type": "code",
   "execution_count": 69,
   "metadata": {},
   "outputs": [
    {
     "data": {
      "text/plain": [
       "tensor([[1200.],\n",
       "        [1500.],\n",
       "        [2000.],\n",
       "        [1780.],\n",
       "        [1450.],\n",
       "        [3000.],\n",
       "        [1300.],\n",
       "        [1600.],\n",
       "        [1800.]])"
      ]
     },
     "execution_count": 69,
     "metadata": {},
     "output_type": "execute_result"
    }
   ],
   "source": [
    "labels"
   ]
  },
  {
   "cell_type": "code",
   "execution_count": 62,
   "metadata": {},
   "outputs": [
    {
     "data": {
      "text/plain": [
       "Parameter containing:\n",
       "tensor([[-0.2165,  0.7932,  0.7099,  0.2620,  0.9969, -1.3209,  0.1494,  0.5747,\n",
       "         -0.1443, -0.2123, -0.2017,  0.2293, -0.1411, -0.0060,  0.2428, -0.0132]],\n",
       "       requires_grad=True)"
      ]
     },
     "execution_count": 62,
     "metadata": {},
     "output_type": "execute_result"
    }
   ],
   "source": [
    "net.layer1.heads[0].attn_fc.weight"
   ]
  },
  {
   "cell_type": "code",
   "execution_count": 64,
   "metadata": {},
   "outputs": [
    {
     "data": {
      "text/plain": [
       "Parameter containing:\n",
       "tensor([[ 2.9448e-01, -1.5908e+00],\n",
       "        [-1.0537e+00,  6.0523e-01],\n",
       "        [ 5.0391e-01,  6.3717e-01],\n",
       "        [ 1.4009e-01, -1.4340e+00],\n",
       "        [ 3.3794e-01,  2.3537e-04],\n",
       "        [ 5.5770e-01,  3.8537e-01],\n",
       "        [ 1.2509e+00, -1.5528e-01],\n",
       "        [-1.6131e+00, -4.3387e-01]], requires_grad=True)"
      ]
     },
     "execution_count": 64,
     "metadata": {},
     "output_type": "execute_result"
    }
   ],
   "source": [
    "net.layer1.heads[0].fc.weight"
   ]
  },
  {
   "cell_type": "code",
   "execution_count": 65,
   "metadata": {},
   "outputs": [
    {
     "data": {
      "text/plain": [
       "tensor([[20.,  5.],\n",
       "        [35.,  5.],\n",
       "        [24.,  7.],\n",
       "        [33., 13.],\n",
       "        [35., 16.],\n",
       "        [18., 21.],\n",
       "        [19.,  6.],\n",
       "        [32.,  6.],\n",
       "        [23.,  6.]])"
      ]
     },
     "execution_count": 65,
     "metadata": {},
     "output_type": "execute_result"
    }
   ],
   "source": [
    "features"
   ]
  },
  {
   "cell_type": "code",
   "execution_count": null,
   "metadata": {},
   "outputs": [],
   "source": []
  }
 ],
 "metadata": {
  "kernelspec": {
   "display_name": "Python 3",
   "language": "python",
   "name": "python3"
  },
  "language_info": {
   "codemirror_mode": {
    "name": "ipython",
    "version": 3
   },
   "file_extension": ".py",
   "mimetype": "text/x-python",
   "name": "python",
   "nbconvert_exporter": "python",
   "pygments_lexer": "ipython3",
   "version": "3.7.3"
  }
 },
 "nbformat": 4,
 "nbformat_minor": 2
}
