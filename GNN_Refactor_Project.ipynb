{
 "cells": [
  {
   "cell_type": "code",
   "execution_count": 33,
   "metadata": {},
   "outputs": [
    {
     "name": "stdout",
     "output_type": "stream",
     "text": [
      "\u001b[33mWARNING: Ignoring invalid distribution -umpy (/home/ai/.pyenv/versions/3.7.9/lib/python3.7/site-packages)\u001b[0m\n",
      "\u001b[33mWARNING: Ignoring invalid distribution -umpy (/home/ai/.pyenv/versions/3.7.9/lib/python3.7/site-packages)\u001b[0m\n",
      "Requirement already satisfied: torch_geometric in /home/ai/.local/lib/python3.7/site-packages (1.7.0)\n",
      "Requirement already satisfied: pandas in /home/ai/.pyenv/versions/3.7.9/lib/python3.7/site-packages (from torch_geometric) (1.1.4)\n",
      "Requirement already satisfied: numba in /home/ai/.local/lib/python3.7/site-packages (from torch_geometric) (0.53.1)\n",
      "Requirement already satisfied: python-louvain in /home/ai/.local/lib/python3.7/site-packages (from torch_geometric) (0.15)\n",
      "Requirement already satisfied: scipy in /home/ai/.pyenv/versions/3.7.9/lib/python3.7/site-packages (from torch_geometric) (1.5.4)\n",
      "Requirement already satisfied: h5py in /home/ai/.pyenv/versions/3.7.9/lib/python3.7/site-packages (from torch_geometric) (2.10.0)\n",
      "Requirement already satisfied: networkx in /home/ai/.pyenv/versions/3.7.9/lib/python3.7/site-packages (from torch_geometric) (2.5.1)\n",
      "Requirement already satisfied: googledrivedownloader in /home/ai/.local/lib/python3.7/site-packages (from torch_geometric) (0.4)\n",
      "Requirement already satisfied: numpy in /home/ai/.local/lib/python3.7/site-packages (from torch_geometric) (1.19.3)\n",
      "Requirement already satisfied: rdflib in /home/ai/.local/lib/python3.7/site-packages (from torch_geometric) (5.0.0)\n",
      "Requirement already satisfied: requests in /home/ai/.pyenv/versions/3.7.9/lib/python3.7/site-packages (from torch_geometric) (2.25.0)\n",
      "Requirement already satisfied: jinja2 in /home/ai/.pyenv/versions/3.7.9/lib/python3.7/site-packages (from torch_geometric) (2.11.2)\n",
      "Requirement already satisfied: ase in /home/ai/.local/lib/python3.7/site-packages (from torch_geometric) (3.21.1)\n",
      "Requirement already satisfied: tqdm in /home/ai/.pyenv/versions/3.7.9/lib/python3.7/site-packages (from torch_geometric) (4.54.1)\n",
      "Requirement already satisfied: scikit-learn in /home/ai/.pyenv/versions/3.7.9/lib/python3.7/site-packages (from torch_geometric) (0.23.2)\n",
      "Requirement already satisfied: matplotlib>=2.0.0 in /home/ai/.pyenv/versions/3.7.9/lib/python3.7/site-packages (from ase->torch_geometric) (3.3.3)\n",
      "Requirement already satisfied: pillow>=6.2.0 in /home/ai/.pyenv/versions/3.7.9/lib/python3.7/site-packages (from matplotlib>=2.0.0->ase->torch_geometric) (8.0.1)\n",
      "Requirement already satisfied: pyparsing!=2.0.4,!=2.1.2,!=2.1.6,>=2.0.3 in /home/ai/.pyenv/versions/3.7.9/lib/python3.7/site-packages (from matplotlib>=2.0.0->ase->torch_geometric) (2.4.7)\n",
      "Requirement already satisfied: python-dateutil>=2.1 in /home/ai/.pyenv/versions/3.7.9/lib/python3.7/site-packages (from matplotlib>=2.0.0->ase->torch_geometric) (2.8.1)\n",
      "Requirement already satisfied: cycler>=0.10 in /home/ai/.pyenv/versions/3.7.9/lib/python3.7/site-packages (from matplotlib>=2.0.0->ase->torch_geometric) (0.10.0)\n",
      "Requirement already satisfied: kiwisolver>=1.0.1 in /home/ai/.pyenv/versions/3.7.9/lib/python3.7/site-packages (from matplotlib>=2.0.0->ase->torch_geometric) (1.3.1)\n",
      "Requirement already satisfied: six in /home/ai/.pyenv/versions/3.7.9/lib/python3.7/site-packages (from cycler>=0.10->matplotlib>=2.0.0->ase->torch_geometric) (1.15.0)\n",
      "Requirement already satisfied: MarkupSafe>=0.23 in /home/ai/.pyenv/versions/3.7.9/lib/python3.7/site-packages (from jinja2->torch_geometric) (1.1.1)\n",
      "Requirement already satisfied: decorator<5,>=4.3 in /home/ai/.pyenv/versions/3.7.9/lib/python3.7/site-packages (from networkx->torch_geometric) (4.4.2)\n",
      "Requirement already satisfied: setuptools in /home/ai/.pyenv/versions/3.7.9/lib/python3.7/site-packages (from numba->torch_geometric) (47.1.0)\n",
      "Requirement already satisfied: llvmlite<0.37,>=0.36.0rc1 in /home/ai/.local/lib/python3.7/site-packages (from numba->torch_geometric) (0.36.0)\n",
      "Requirement already satisfied: pytz>=2017.2 in /home/ai/.pyenv/versions/3.7.9/lib/python3.7/site-packages (from pandas->torch_geometric) (2020.4)\n",
      "Requirement already satisfied: isodate in /home/ai/.pyenv/versions/3.7.9/lib/python3.7/site-packages (from rdflib->torch_geometric) (0.6.0)\n",
      "Requirement already satisfied: urllib3<1.27,>=1.21.1 in /home/ai/.pyenv/versions/3.7.9/lib/python3.7/site-packages (from requests->torch_geometric) (1.26.2)\n",
      "Requirement already satisfied: certifi>=2017.4.17 in /home/ai/.pyenv/versions/3.7.9/lib/python3.7/site-packages (from requests->torch_geometric) (2020.11.8)\n",
      "Requirement already satisfied: idna<3,>=2.5 in /home/ai/.pyenv/versions/3.7.9/lib/python3.7/site-packages (from requests->torch_geometric) (2.10)\n",
      "Requirement already satisfied: chardet<4,>=3.0.2 in /home/ai/.pyenv/versions/3.7.9/lib/python3.7/site-packages (from requests->torch_geometric) (3.0.4)\n",
      "Requirement already satisfied: threadpoolctl>=2.0.0 in /home/ai/.pyenv/versions/3.7.9/lib/python3.7/site-packages (from scikit-learn->torch_geometric) (2.1.0)\n",
      "Requirement already satisfied: joblib>=0.11 in /home/ai/.pyenv/versions/3.7.9/lib/python3.7/site-packages (from scikit-learn->torch_geometric) (0.17.0)\n",
      "\u001b[33mWARNING: Ignoring invalid distribution -umpy (/home/ai/.pyenv/versions/3.7.9/lib/python3.7/site-packages)\u001b[0m\n",
      "\u001b[33mWARNING: Ignoring invalid distribution -umpy (/home/ai/.pyenv/versions/3.7.9/lib/python3.7/site-packages)\u001b[0m\n",
      "\u001b[33mWARNING: Ignoring invalid distribution -umpy (/home/ai/.pyenv/versions/3.7.9/lib/python3.7/site-packages)\u001b[0m\n",
      "\u001b[33mWARNING: Ignoring invalid distribution -umpy (/home/ai/.pyenv/versions/3.7.9/lib/python3.7/site-packages)\u001b[0m\n",
      "\u001b[33mWARNING: Ignoring invalid distribution -umpy (/home/ai/.pyenv/versions/3.7.9/lib/python3.7/site-packages)\u001b[0m\n",
      "Requirement already satisfied: torch_sparse in /home/ai/.local/lib/python3.7/site-packages (0.6.9)\n",
      "Requirement already satisfied: scipy in /home/ai/.pyenv/versions/3.7.9/lib/python3.7/site-packages (from torch_sparse) (1.5.4)\n",
      "Requirement already satisfied: numpy>=1.14.5 in /home/ai/.local/lib/python3.7/site-packages (from scipy->torch_sparse) (1.19.3)\n",
      "\u001b[33mWARNING: Ignoring invalid distribution -umpy (/home/ai/.pyenv/versions/3.7.9/lib/python3.7/site-packages)\u001b[0m\n",
      "\u001b[33mWARNING: Ignoring invalid distribution -umpy (/home/ai/.pyenv/versions/3.7.9/lib/python3.7/site-packages)\u001b[0m\n",
      "\u001b[33mWARNING: Ignoring invalid distribution -umpy (/home/ai/.pyenv/versions/3.7.9/lib/python3.7/site-packages)\u001b[0m\n",
      "\u001b[33mWARNING: Ignoring invalid distribution -umpy (/home/ai/.pyenv/versions/3.7.9/lib/python3.7/site-packages)\u001b[0m\n",
      "\u001b[33mWARNING: Ignoring invalid distribution -umpy (/home/ai/.pyenv/versions/3.7.9/lib/python3.7/site-packages)\u001b[0m\n",
      "Requirement already satisfied: torch_scatter in /home/ai/.local/lib/python3.7/site-packages (2.0.6)\n",
      "\u001b[33mWARNING: Ignoring invalid distribution -umpy (/home/ai/.pyenv/versions/3.7.9/lib/python3.7/site-packages)\u001b[0m\n",
      "\u001b[33mWARNING: Ignoring invalid distribution -umpy (/home/ai/.pyenv/versions/3.7.9/lib/python3.7/site-packages)\u001b[0m\n",
      "\u001b[33mWARNING: Ignoring invalid distribution -umpy (/home/ai/.pyenv/versions/3.7.9/lib/python3.7/site-packages)\u001b[0m\n",
      "\u001b[33mWARNING: Ignoring invalid distribution -umpy (/home/ai/.pyenv/versions/3.7.9/lib/python3.7/site-packages)\u001b[0m\n",
      "\u001b[33mWARNING: Ignoring invalid distribution -umpy (/home/ai/.pyenv/versions/3.7.9/lib/python3.7/site-packages)\u001b[0m\n",
      "Requirement already satisfied: pytorch_lightning in /home/ai/.pyenv/versions/3.7.9/lib/python3.7/site-packages (1.3.1)\n",
      "Requirement already satisfied: tqdm>=4.41.0 in /home/ai/.pyenv/versions/3.7.9/lib/python3.7/site-packages (from pytorch_lightning) (4.54.1)\n",
      "Requirement already satisfied: numpy>=1.17.2 in /home/ai/.local/lib/python3.7/site-packages (from pytorch_lightning) (1.19.3)\n",
      "Requirement already satisfied: future>=0.17.1 in /home/ai/.pyenv/versions/3.7.9/lib/python3.7/site-packages (from pytorch_lightning) (0.18.2)\n",
      "Requirement already satisfied: torchmetrics>=0.2.0 in /home/ai/.pyenv/versions/3.7.9/lib/python3.7/site-packages (from pytorch_lightning) (0.3.2)\n",
      "Requirement already satisfied: pyDeprecate==0.3.0 in /home/ai/.pyenv/versions/3.7.9/lib/python3.7/site-packages (from pytorch_lightning) (0.3.0)\n",
      "Requirement already satisfied: packaging in /home/ai/.pyenv/versions/3.7.9/lib/python3.7/site-packages (from pytorch_lightning) (20.7)\n",
      "Requirement already satisfied: tensorboard!=2.5.0,>=2.2.0 in /home/ai/.pyenv/versions/3.7.9/lib/python3.7/site-packages (from pytorch_lightning) (2.4.0)\n",
      "Requirement already satisfied: PyYAML<=5.4.1,>=5.1 in /home/ai/.pyenv/versions/3.7.9/lib/python3.7/site-packages (from pytorch_lightning) (5.3.1)\n",
      "Requirement already satisfied: torch>=1.4 in /home/ai/.local/lib/python3.7/site-packages (from pytorch_lightning) (1.8.1)\n",
      "Requirement already satisfied: fsspec[http]>=2021.4.0 in /home/ai/.pyenv/versions/3.7.9/lib/python3.7/site-packages (from pytorch_lightning) (2021.5.0)\n",
      "Requirement already satisfied: requests in /home/ai/.pyenv/versions/3.7.9/lib/python3.7/site-packages (from fsspec[http]>=2021.4.0->pytorch_lightning) (2.25.0)\n",
      "Requirement already satisfied: aiohttp in /home/ai/.pyenv/versions/3.7.9/lib/python3.7/site-packages (from fsspec[http]>=2021.4.0->pytorch_lightning) (3.7.4.post0)\n",
      "Requirement already satisfied: absl-py>=0.4 in /home/ai/.pyenv/versions/3.7.9/lib/python3.7/site-packages (from tensorboard!=2.5.0,>=2.2.0->pytorch_lightning) (0.11.0)\n",
      "Requirement already satisfied: google-auth<2,>=1.6.3 in /home/ai/.pyenv/versions/3.7.9/lib/python3.7/site-packages (from tensorboard!=2.5.0,>=2.2.0->pytorch_lightning) (1.23.0)\n",
      "Requirement already satisfied: werkzeug>=0.11.15 in /home/ai/.pyenv/versions/3.7.9/lib/python3.7/site-packages (from tensorboard!=2.5.0,>=2.2.0->pytorch_lightning) (1.0.1)\n",
      "Requirement already satisfied: protobuf>=3.6.0 in /home/ai/.pyenv/versions/3.7.9/lib/python3.7/site-packages (from tensorboard!=2.5.0,>=2.2.0->pytorch_lightning) (3.14.0)\n",
      "Requirement already satisfied: setuptools>=41.0.0 in /home/ai/.pyenv/versions/3.7.9/lib/python3.7/site-packages (from tensorboard!=2.5.0,>=2.2.0->pytorch_lightning) (47.1.0)\n",
      "Requirement already satisfied: wheel>=0.26 in /home/ai/.pyenv/versions/3.7.9/lib/python3.7/site-packages (from tensorboard!=2.5.0,>=2.2.0->pytorch_lightning) (0.36.1)\n",
      "Requirement already satisfied: tensorboard-plugin-wit>=1.6.0 in /home/ai/.pyenv/versions/3.7.9/lib/python3.7/site-packages (from tensorboard!=2.5.0,>=2.2.0->pytorch_lightning) (1.7.0)\n",
      "Requirement already satisfied: markdown>=2.6.8 in /home/ai/.pyenv/versions/3.7.9/lib/python3.7/site-packages (from tensorboard!=2.5.0,>=2.2.0->pytorch_lightning) (3.3.3)\n",
      "Requirement already satisfied: google-auth-oauthlib<0.5,>=0.4.1 in /home/ai/.pyenv/versions/3.7.9/lib/python3.7/site-packages (from tensorboard!=2.5.0,>=2.2.0->pytorch_lightning) (0.4.2)\n",
      "Requirement already satisfied: six>=1.10.0 in /home/ai/.pyenv/versions/3.7.9/lib/python3.7/site-packages (from tensorboard!=2.5.0,>=2.2.0->pytorch_lightning) (1.15.0)\n",
      "Requirement already satisfied: grpcio>=1.24.3 in /home/ai/.pyenv/versions/3.7.9/lib/python3.7/site-packages (from tensorboard!=2.5.0,>=2.2.0->pytorch_lightning) (1.34.0)\n",
      "Requirement already satisfied: rsa<5,>=3.1.4 in /home/ai/.pyenv/versions/3.7.9/lib/python3.7/site-packages (from google-auth<2,>=1.6.3->tensorboard!=2.5.0,>=2.2.0->pytorch_lightning) (4.6)\n",
      "Requirement already satisfied: cachetools<5.0,>=2.0.0 in /home/ai/.pyenv/versions/3.7.9/lib/python3.7/site-packages (from google-auth<2,>=1.6.3->tensorboard!=2.5.0,>=2.2.0->pytorch_lightning) (4.1.1)\n",
      "Requirement already satisfied: pyasn1-modules>=0.2.1 in /home/ai/.pyenv/versions/3.7.9/lib/python3.7/site-packages (from google-auth<2,>=1.6.3->tensorboard!=2.5.0,>=2.2.0->pytorch_lightning) (0.2.8)\n",
      "Requirement already satisfied: requests-oauthlib>=0.7.0 in /home/ai/.pyenv/versions/3.7.9/lib/python3.7/site-packages (from google-auth-oauthlib<0.5,>=0.4.1->tensorboard!=2.5.0,>=2.2.0->pytorch_lightning) (1.3.0)\n",
      "Requirement already satisfied: importlib-metadata in /home/ai/.pyenv/versions/3.7.9/lib/python3.7/site-packages (from markdown>=2.6.8->tensorboard!=2.5.0,>=2.2.0->pytorch_lightning) (3.1.1)\n",
      "Requirement already satisfied: pyasn1<0.5.0,>=0.4.6 in /home/ai/.pyenv/versions/3.7.9/lib/python3.7/site-packages (from pyasn1-modules>=0.2.1->google-auth<2,>=1.6.3->tensorboard!=2.5.0,>=2.2.0->pytorch_lightning) (0.4.8)\n",
      "Requirement already satisfied: chardet<4,>=3.0.2 in /home/ai/.pyenv/versions/3.7.9/lib/python3.7/site-packages (from requests->fsspec[http]>=2021.4.0->pytorch_lightning) (3.0.4)\n",
      "Requirement already satisfied: idna<3,>=2.5 in /home/ai/.pyenv/versions/3.7.9/lib/python3.7/site-packages (from requests->fsspec[http]>=2021.4.0->pytorch_lightning) (2.10)\n",
      "Requirement already satisfied: certifi>=2017.4.17 in /home/ai/.pyenv/versions/3.7.9/lib/python3.7/site-packages (from requests->fsspec[http]>=2021.4.0->pytorch_lightning) (2020.11.8)\n",
      "Requirement already satisfied: urllib3<1.27,>=1.21.1 in /home/ai/.pyenv/versions/3.7.9/lib/python3.7/site-packages (from requests->fsspec[http]>=2021.4.0->pytorch_lightning) (1.26.2)\n",
      "Requirement already satisfied: oauthlib>=3.0.0 in /home/ai/.pyenv/versions/3.7.9/lib/python3.7/site-packages (from requests-oauthlib>=0.7.0->google-auth-oauthlib<0.5,>=0.4.1->tensorboard!=2.5.0,>=2.2.0->pytorch_lightning) (3.1.0)\n",
      "Requirement already satisfied: typing-extensions in /home/ai/.pyenv/versions/3.7.9/lib/python3.7/site-packages (from torch>=1.4->pytorch_lightning) (3.7.4.3)\n",
      "Requirement already satisfied: attrs>=17.3.0 in /home/ai/.pyenv/versions/3.7.9/lib/python3.7/site-packages (from aiohttp->fsspec[http]>=2021.4.0->pytorch_lightning) (20.3.0)\n",
      "Requirement already satisfied: yarl<2.0,>=1.0 in /home/ai/.pyenv/versions/3.7.9/lib/python3.7/site-packages (from aiohttp->fsspec[http]>=2021.4.0->pytorch_lightning) (1.6.3)\n",
      "Requirement already satisfied: multidict<7.0,>=4.5 in /home/ai/.pyenv/versions/3.7.9/lib/python3.7/site-packages (from aiohttp->fsspec[http]>=2021.4.0->pytorch_lightning) (5.1.0)\n",
      "Requirement already satisfied: async-timeout<4.0,>=3.0 in /home/ai/.pyenv/versions/3.7.9/lib/python3.7/site-packages (from aiohttp->fsspec[http]>=2021.4.0->pytorch_lightning) (3.0.1)\n",
      "Requirement already satisfied: zipp>=0.5 in /home/ai/.pyenv/versions/3.7.9/lib/python3.7/site-packages (from importlib-metadata->markdown>=2.6.8->tensorboard!=2.5.0,>=2.2.0->pytorch_lightning) (3.4.0)\n",
      "Requirement already satisfied: pyparsing>=2.0.2 in /home/ai/.pyenv/versions/3.7.9/lib/python3.7/site-packages (from packaging->pytorch_lightning) (2.4.7)\n",
      "\u001b[33mWARNING: Ignoring invalid distribution -umpy (/home/ai/.pyenv/versions/3.7.9/lib/python3.7/site-packages)\u001b[0m\n",
      "\u001b[33mWARNING: Ignoring invalid distribution -umpy (/home/ai/.pyenv/versions/3.7.9/lib/python3.7/site-packages)\u001b[0m\n",
      "\u001b[33mWARNING: Ignoring invalid distribution -umpy (/home/ai/.pyenv/versions/3.7.9/lib/python3.7/site-packages)\u001b[0m\n",
      "/home/ai/.pyenv/versions/3.7.9/lib/python3.7/site-packages/jupyter_server/transutils.py:13: FutureWarning: The alias `_()` will be deprecated. Use `_i18n()` instead.\n",
      "  warnings.warn(warn_msg, FutureWarning)\n",
      "An error occured.\n",
      "PermissionError: [Errno 13] Permission denied: '/home/ai/.pyenv/versions/3.7.9/share/jupyter/lab/extensions/jupyter-widgets-jupyterlab-manager-3.0.0.tgz'\n",
      "See the log file for details:  /tmp/jupyterlab-debug-wfxbt06_.log\n"
     ]
    }
   ],
   "source": [
    "!pip install torch_geometric --user \n",
    "!pip install torch_sparse --user \n",
    "!pip install torch_scatter --user \n",
    "!pip install pytorch_lightning --user \n",
    "!jupyter labextension install @jupyter-widgets/jupyterlab-manager"
   ]
  },
  {
   "cell_type": "markdown",
   "metadata": {},
   "source": [
    "# Raw Data Loading Function "
   ]
  },
  {
   "cell_type": "code",
   "execution_count": 34,
   "metadata": {},
   "outputs": [],
   "source": [
    "import pandas as pd\n",
    "\n",
    "def load_raw_cities_df():\n",
    "    cities_df = pd.DataFrame({\n",
    "        'city':['bangalore','Mumbai','Delhi','kolkatta','chennai','bhopal'],\n",
    "        'lat':[12.9716,19.076,28.7041,22.5726,13.0827,23.2599],\n",
    "        'lon':[77.5946,72.877,77.1025,88.639,80.2707,77.4126],\n",
    "        'x1':[20,35,24,33,35,18],\n",
    "        'x2':[5,5,7,13,16,21],\n",
    "        'y':[1200,1500,2000,1780,1450,3000]})\n",
    "    return cities_df \n"
   ]
  },
  {
   "cell_type": "markdown",
   "metadata": {},
   "source": [
    "# Preprocessing Functions "
   ]
  },
  {
   "cell_type": "code",
   "execution_count": 35,
   "metadata": {},
   "outputs": [],
   "source": [
    "import pandas as pd\n",
    "import numpy as np \n",
    "from sklearn.neighbors import DistanceMetric\n",
    "import networkx as nx\n",
    "import torch \n",
    "from torch_geometric.utils.convert import from_networkx\n",
    "from torch_geometric.data import Data\n",
    "\n",
    "def convert_lat_lon_to_radian(cities_df):\n",
    "    cities_df['lat'] = np.radians(cities_df['lat'])\n",
    "    cities_df['lon'] = np.radians(cities_df['lon'])\n",
    "    return cities_df\n",
    "def get_city_dist_matrix(cities_df):\n",
    "    dist = DistanceMetric.get_metric('haversine')\n",
    "    cities_df[['lat','lon']].to_numpy()\n",
    "    dist_matrix_df = pd.DataFrame(dist.pairwise(cities_df[['lat','lon']].to_numpy())*6373,  columns=cities_df.city.unique(), index=cities_df.city.unique())\n",
    "    return dist_matrix_df\n",
    "\n",
    "def convert_to_networkx_graph(dist_matrix_df, threshold = 1200):\n",
    "    D = dist_matrix_df.values\n",
    "    D[D < threshold] = 1\n",
    "    D[D >= threshold] = 0\n",
    "    G = nx.from_numpy_matrix(D)\n",
    "    return G\n",
    "\n",
    "def convert_to_geometric_data(x_df, y_df, G):\n",
    "    x = torch.tensor(x_df.values, dtype=torch.float)\n",
    "    y = torch.tensor(y_df.values, dtype=torch.float)\n",
    "    edge_index = from_networkx(G).edge_index\n",
    "    data = Data(x=x, y=y, edge_index=edge_index)\n",
    "    return data"
   ]
  },
  {
   "cell_type": "markdown",
   "metadata": {},
   "source": [
    "# Model Modules"
   ]
  },
  {
   "cell_type": "code",
   "execution_count": 36,
   "metadata": {},
   "outputs": [],
   "source": [
    "import torch\n",
    "from torch_geometric.nn import MessagePassing\n",
    "from torch_geometric.utils import add_self_loops, degree\n",
    "import torch.nn.functional as F\n",
    "\n",
    "class GraphNeuralNet(torch.nn.Module):\n",
    "    def __init__(self, num_node_features, hidden_dim=2, output_dim=1):\n",
    "        super(GraphNeuralNet, self).__init__()\n",
    "        self.conv1 = GCNConv(num_node_features, hidden_dim)\n",
    "        self.conv2 = GCNConv(hidden_dim, output_dim)\n",
    "\n",
    "    def forward(self, x, edge_index):\n",
    "        # x, edge_index = data.x, data.edge_index\n",
    "\n",
    "        x = self.conv1(x, edge_index)\n",
    "        x = F.relu(x)\n",
    "        x = F.dropout(x, training=self.training)\n",
    "        x = self.conv2(x, edge_index)\n",
    "\n",
    "        return x\n",
    "    \n",
    "class GCNConv(MessagePassing):\n",
    "    def __init__(self, in_channels, out_channels):\n",
    "        super(GCNConv, self).__init__(aggr='add')\n",
    "        self.lin = torch.nn.Linear(in_channels, out_channels)\n",
    "\n",
    "    def forward(self, x, edge_index):\n",
    "        # Step 1: Add self-loops\n",
    "        edge_index, _ = add_self_loops(edge_index, num_nodes=x.size(0))\n",
    "\n",
    "        # Step 2: Multiply with weights\n",
    "        x = self.lin(x)\n",
    "\n",
    "        # Step 3: Calculate the normalization\n",
    "        row, col = edge_index\n",
    "        deg = degree(row, x.size(0), dtype=x.dtype)\n",
    "        deg_inv_sqrt = deg.pow(-0.5)\n",
    "        norm = deg_inv_sqrt[row] * deg_inv_sqrt[col]\n",
    "\n",
    "        # Step 4: Propagate the embeddings to the next layer\n",
    "        return self.propagate(edge_index, size=(x.size(0), x.size(0)), x=x,\n",
    "                              norm=norm)\n",
    "\n",
    "    def message(self, x_j, norm):\n",
    "        # Normalize node features.\n",
    "        return norm.view(-1, 1) * x_j"
   ]
  },
  {
   "cell_type": "markdown",
   "metadata": {},
   "source": [
    "# Define Lightning Module "
   ]
  },
  {
   "cell_type": "code",
   "execution_count": 38,
   "metadata": {},
   "outputs": [],
   "source": [
    "import pytorch_lightning as pl \n",
    "\n",
    "class AVMProjModule(pl.LightningModule):\n",
    "    def __init__(self, num_node_features, hidden_dim = 2, output_dim=1, lr = 0.001):\n",
    "        super(AVMProjModule, self).__init__()\n",
    "        self.model = GraphNeuralNet(num_node_features, hidden_dim = hidden_dim, output_dim = output_dim)\n",
    "        self.lr = lr \n",
    "    def forward(self, x, edge_index):\n",
    "        y = self.model(x, edge_index)\n",
    "        return y \n",
    "    def training_step(self, batch, batch_idx):\n",
    "        x, y, edge_index = batch.x, batch.y, batch.edge_index \n",
    "        y_hat = self(x, edge_index)\n",
    "        loss = F.l1_loss(y_hat, y)\n",
    "        return {'loss': loss}\n",
    "    def configure_optimizers(self):\n",
    "        return torch.optim.AdamW(self.parameters(), lr=self.lr) "
   ]
  },
  {
   "cell_type": "markdown",
   "metadata": {},
   "source": [
    "# Connect them all "
   ]
  },
  {
   "cell_type": "code",
   "execution_count": 39,
   "metadata": {},
   "outputs": [
    {
     "name": "stderr",
     "output_type": "stream",
     "text": [
      "GPU available: False, used: False\n",
      "TPU available: False, using: 0 TPU cores\n",
      "\n",
      "  | Name  | Type           | Params\n",
      "-----------------------------------------\n",
      "0 | model | GraphNeuralNet | 9     \n",
      "-----------------------------------------\n",
      "9         Trainable params\n",
      "0         Non-trainable params\n",
      "9         Total params\n",
      "0.000     Total estimated model params size (MB)\n"
     ]
    },
    {
     "data": {
      "application/vnd.jupyter.widget-view+json": {
       "model_id": "45cd8b9f5b5f46d580b84317533d7e95",
       "version_major": 2,
       "version_minor": 0
      },
      "text/plain": [
       "HBox(children=(HTML(value='Training'), FloatProgress(value=1.0, bar_style='info', layout=Layout(flex='2'), max…"
      ]
     },
     "metadata": {},
     "output_type": "display_data"
    },
    {
     "name": "stdout",
     "output_type": "stream",
     "text": [
      "\n"
     ]
    }
   ],
   "source": [
    "from get_geometric_data import get_geometric_data\n",
    "from avm_modules import AVMProjModule\n",
    "\n",
    "from torch_geometric.data import DataLoader \n",
    "geometric_data = get_geometric_data()\n",
    "\n",
    "\n",
    "train_loader = DataLoader([geometric_data], batch_size=1)\n",
    "\n",
    "\n",
    "project_module = AVMProjModule(\n",
    "    geometric_data.num_node_features,\n",
    "    hidden_dim=2, \n",
    "    output_dim=1\n",
    ")\n",
    "\n",
    "# from pytorch_lightning.loggers import TensorBoardLogger\n",
    "# logger = TensorBoardLogger('/home/ai/work/logs/tensorboard', 'GNN_Refactor_Project')\n",
    "trainer = pl.Trainer(auto_lr_find=True)\n",
    "# logger.experiment.add_graph(project_module, geometric_data)\n",
    "\n",
    "from tqdm.auto import tqdm\n",
    "trainer.fit(project_module, train_loader)\n"
   ]
  },
  {
   "cell_type": "code",
   "execution_count": null,
   "metadata": {},
   "outputs": [],
   "source": []
  }
 ],
 "metadata": {
  "kernelspec": {
   "display_name": "Python 3",
   "language": "python",
   "name": "python3"
  },
  "language_info": {
   "codemirror_mode": {
    "name": "ipython",
    "version": 3
   },
   "file_extension": ".py",
   "mimetype": "text/x-python",
   "name": "python",
   "nbconvert_exporter": "python",
   "pygments_lexer": "ipython3",
   "version": "3.7.9"
  }
 },
 "nbformat": 4,
 "nbformat_minor": 4
}
