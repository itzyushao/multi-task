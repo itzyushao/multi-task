{
 "cells": [
  {
   "cell_type": "code",
   "execution_count": 1,
   "metadata": {
    "scrolled": true
   },
   "outputs": [],
   "source": [
    "# %%capture\n",
    "# ! pip install pytorch-lightning\n",
    "# ! pip install pytorch-lightning-bolts\n",
    "# ! pip install torchvision"
   ]
  },
  {
   "cell_type": "code",
   "execution_count": 2,
   "metadata": {},
   "outputs": [
    {
     "name": "stderr",
     "output_type": "stream",
     "text": [
      "/Users/shao/anaconda3/lib/python3.7/site-packages/pl_bolts/utils/warnings.py:32: UserWarning: You want to use `wandb` which is not installed yet, install it with `pip install wandb`.\n",
      "  f' install it with `pip install {pypi_name}`.' + extra_text\n",
      "/Users/shao/anaconda3/lib/python3.7/site-packages/pl_bolts/utils/warnings.py:32: UserWarning: You want to use `gym` which is not installed yet, install it with `pip install gym`.\n",
      "  f' install it with `pip install {pypi_name}`.' + extra_text\n"
     ]
    }
   ],
   "source": [
    "import os\n",
    "import numpy as np\n",
    "import torch\n",
    "from torch import nn\n",
    "from torch.nn import functional as F\n",
    "from torch.utils.data import DataLoader, random_split\n",
    "from torchvision.datasets import MNIST\n",
    "from torchvision import transforms\n",
    "import pytorch_lightning as pl\n",
    "from pytorch_lightning.metrics.functional import accuracy\n",
    "from pl_bolts.datasets import DummyDataset\n",
    "from torch.optim import Adam\n",
    "from torch.utils.data import TensorDataset"
   ]
  },
  {
   "cell_type": "markdown",
   "metadata": {},
   "source": [
    "# Multi-Task Learning"
   ]
  },
  {
   "cell_type": "markdown",
   "metadata": {},
   "source": [
    "### Simple Linear Regression"
   ]
  },
  {
   "cell_type": "code",
   "execution_count": 3,
   "metadata": {},
   "outputs": [
    {
     "name": "stdout",
     "output_type": "stream",
     "text": [
      "Epoch [10/100], Loss: 10.8705\n",
      "Epoch [20/100], Loss: 1.1721\n",
      "Epoch [30/100], Loss: 0.4507\n",
      "Epoch [40/100], Loss: 0.2477\n",
      "Epoch [50/100], Loss: 0.1459\n",
      "Epoch [60/100], Loss: 0.0881\n",
      "Epoch [70/100], Loss: 0.0543\n",
      "Epoch [80/100], Loss: 0.0343\n",
      "Epoch [90/100], Loss: 0.0223\n",
      "Epoch [100/100], Loss: 0.0150\n"
     ]
    }
   ],
   "source": [
    "# Input (temp, rainfall, humidity)\n",
    "input_1 = np.array([[73, 67, 43], [91, 88, 64], [87, 134, 58], \n",
    "                   [102, 43, 37], [69, 96, 70], [73, 67, 43], \n",
    "                   [91, 88, 64], [87, 134, 58], [102, 43, 37], \n",
    "                   [69, 96, 70], [73, 67, 43], [91, 88, 64], \n",
    "                   [87, 134, 58], [102, 43, 37]], \n",
    "                  dtype='float32')\n",
    "# Targets (apples, oranges)\n",
    "target_1 = np.array([[52], [84], [115], \n",
    "                    [23], [102], [59], \n",
    "                    [85], [115], [27], \n",
    "                    [101], [51], [82], \n",
    "                    [112], [23]], \n",
    "                   dtype='float32')\n",
    "\n",
    "input_1 = torch.from_numpy(input_1)\n",
    "target_1 = torch.from_numpy(target_1)\n",
    "\n",
    "train_1 = TensorDataset(input_1, target_1)\n",
    "train_1[0:3]\n",
    "\n",
    "model1 = nn.Linear(3, 1)\n",
    "\n",
    "# Parameters\n",
    "params = list(model1.parameters())\n",
    "\n",
    "# Define Loss\n",
    "import torch.nn.functional as F\n",
    "loss_fn = F.mse_loss\n",
    "\n",
    "# Define optimizer\n",
    "opt = torch.optim.SGD(params, lr=1e-5)\n",
    "\n",
    "def fit(num_epochs, model1, loss_fn, opt, train_dl1):\n",
    "    \n",
    "    # Repeat for given number of epochs\n",
    "    for epoch in range(num_epochs):\n",
    "        \n",
    "        # Train with batches of data\n",
    "        for xb, yb in train_dl1:\n",
    "            \n",
    "            # 1. Generate predictions\n",
    "            pred1 = model1(xb)\n",
    "            \n",
    "            # 2. Calculate loss\n",
    "            loss = loss_fn(pred1, yb)\n",
    "            \n",
    "            # 3. Compute gradients\n",
    "            loss.backward()\n",
    "            \n",
    "            # 4. Update parameters using gradients\n",
    "            opt.step()\n",
    "            \n",
    "            # 5. Reset the gradients to zero\n",
    "            opt.zero_grad()\n",
    "        \n",
    "        # Print the progress\n",
    "        if (epoch+1) % 10 == 0:\n",
    "            print('Epoch [{}/{}], Loss: {:.4f}'.format(epoch+1, num_epochs, loss.item()))\n",
    "\n",
    "#fit model for 100 epochs\n",
    "fit(100, model1, loss_fn ,opt ,train_1)"
   ]
  },
  {
   "cell_type": "code",
   "execution_count": 4,
   "metadata": {},
   "outputs": [
    {
     "data": {
      "text/plain": [
       "[Parameter containing:\n",
       " tensor([[-0.3626,  0.7432,  0.7699]], requires_grad=True),\n",
       " Parameter containing:\n",
       " tensor([-0.3707], requires_grad=True)]"
      ]
     },
     "execution_count": 4,
     "metadata": {},
     "output_type": "execute_result"
    }
   ],
   "source": [
    "list(model1.parameters())"
   ]
  },
  {
   "cell_type": "markdown",
   "metadata": {},
   "source": [
    "### Double-Task Linear Regression"
   ]
  },
  {
   "cell_type": "code",
   "execution_count": 107,
   "metadata": {},
   "outputs": [
    {
     "name": "stdout",
     "output_type": "stream",
     "text": [
      "Epoch [100/1000], Loss: 4.3452\n",
      "Epoch [200/1000], Loss: 4.2779\n",
      "Epoch [300/1000], Loss: 4.2494\n",
      "Epoch [400/1000], Loss: 4.2212\n",
      "Epoch [500/1000], Loss: 4.1931\n",
      "Epoch [600/1000], Loss: 4.1650\n",
      "Epoch [700/1000], Loss: 4.1369\n",
      "Epoch [800/1000], Loss: 4.1088\n",
      "Epoch [900/1000], Loss: 4.0872\n",
      "Epoch [1000/1000], Loss: 4.0777\n"
     ]
    }
   ],
   "source": [
    "# Input (temp, rainfall, humidity)\n",
    "input_1 = np.array([[73, 67, 43], [91, 88, 64], [87, 134, 58], \n",
    "                   [102, 43, 37], [69, 96, 70], [73, 67, 43], \n",
    "                   [91, 88, 64], [87, 134, 58], [102, 43, 37], \n",
    "                   [69, 96, 70], [73, 67, 43], [91, 88, 64], \n",
    "                   [87, 134, 58], [102, 43, 37]], \n",
    "                  dtype='float32')\n",
    "# Targets (apples, oranges)\n",
    "target_1 = np.array([[52], [84], [115], \n",
    "                    [23], [102], [59], \n",
    "                    [85], [115], [27], \n",
    "                    [101], [51], [82], \n",
    "                    [112], [23]], \n",
    "                   dtype='float32')\n",
    "\n",
    "input_2 = np.array([[73, 67, 43], [91, 88, 64], [87, 134, 58], \n",
    "                   [102, 43, 37], [69, 96, 70], [73, 67, 43], \n",
    "                   [91, 88, 64], [87, 134, 58], [102, 43, 37], \n",
    "                   [69, 96, 70], [73, 67, 43], [91, 88, 64], \n",
    "                   [87, 134, 58], [102, 43, 37]], \n",
    "                  dtype='float32')\n",
    "# Targets (apples, oranges)\n",
    "target_2 = np.array([[52], [84], [115], \n",
    "                    [23], [102], [59], \n",
    "                    [85], [115], [27], \n",
    "                    [101], [51], [82], \n",
    "                    [112], [23]], \n",
    "                   dtype='float32')\n",
    "\n",
    "input_1 = torch.from_numpy(input_1)\n",
    "target_1 = torch.from_numpy(target_1)\n",
    "\n",
    "train_1 = TensorDataset(input_1, target_1)\n",
    "train_1[0:3]\n",
    "\n",
    "input_2 = torch.from_numpy(input_2)\n",
    "target_2 = torch.from_numpy(target_2)\n",
    "\n",
    "train_2 = TensorDataset(input_2, target_2)\n",
    "train_2[0:3]\n",
    "\n",
    "\n",
    "model1 = nn.Linear(3, 1)\n",
    "model2 = nn.Linear(3, 1)\n",
    "\n",
    "##### add another parameters\n",
    "# Parameters\n",
    "params = list(model2.parameters()) + list(model1.parameters())\n",
    "\n",
    "# Define Loss\n",
    "import torch.nn.functional as F\n",
    "loss_fn = F.mse_loss\n",
    "\n",
    "# Define optimizer\n",
    "opt = torch.optim.SGD(params, lr=1e-5)\n",
    "\n",
    "def fit(num_epochs, model1, model2, loss_fn, opt, train_dl1, train_dl2):\n",
    "    \n",
    "    # Repeat for given number of epochs\n",
    "    for epoch in range(num_epochs):\n",
    "        \n",
    "        ##### add another data\n",
    "        # Train with batches of data\n",
    "        for (xb, yb), (xa, ya) in zip(train_dl2 ,train_dl1):\n",
    "            \n",
    "            # 1. Generate predictions\n",
    "            pred1 = model1(xa)\n",
    "            pred2 = model2(xb)\n",
    "            \n",
    "            ##### l1 norm\n",
    "            regularize_term_1 = sum(p.abs().sum() for p in model1.parameters())\n",
    "            regularize_term_2 = sum(p.abs().sum() for p in model2.parameters())\n",
    "            \n",
    "            ##### edit loss\n",
    "            # 2. Calculate loss\n",
    "            loss = loss_fn(pred1, ya)+ loss_fn(pred2, yb) + regularize_term_1+regularize_term_2\n",
    "            \n",
    "            # 3. Compute gradients\n",
    "            loss.backward()\n",
    "            \n",
    "            # 4. Update parameters using gradients\n",
    "            opt.step()\n",
    "            \n",
    "            # 5. Reset the gradients to zero\n",
    "            opt.zero_grad()\n",
    "        \n",
    "        # Print the progress\n",
    "        if (epoch+1) % 100 == 0:\n",
    "            print('Epoch [{}/{}], Loss: {:.4f}'.format(epoch+1, num_epochs, loss.item()))\n",
    "\n",
    "#fit model for 100 epochs\n",
    "fit(1000, model1, model2, loss_fn ,opt ,train_1, train_2)"
   ]
  },
  {
   "cell_type": "code",
   "execution_count": 108,
   "metadata": {},
   "outputs": [
    {
     "name": "stdout",
     "output_type": "stream",
     "text": [
      "tensor(7.4928, grad_fn=<MseLossBackward>)\n",
      "tensor(7.4592, grad_fn=<MseLossBackward>)\n"
     ]
    }
   ],
   "source": [
    "print(loss_fn(pred1, target_1))\n",
    "print(loss_fn(pred2, target_2))"
   ]
  },
  {
   "cell_type": "code",
   "execution_count": 109,
   "metadata": {},
   "outputs": [
    {
     "data": {
      "text/plain": [
       "[Parameter containing:\n",
       " tensor([[-0.3657,  0.7394,  0.7804]], requires_grad=True),\n",
       " Parameter containing:\n",
       " tensor([-0.2826], requires_grad=True)]"
      ]
     },
     "execution_count": 109,
     "metadata": {},
     "output_type": "execute_result"
    }
   ],
   "source": [
    "list(model2.parameters())"
   ]
  },
  {
   "cell_type": "code",
   "execution_count": 110,
   "metadata": {},
   "outputs": [
    {
     "data": {
      "text/plain": [
       "[Parameter containing:\n",
       " tensor([[-0.3680,  0.7394,  0.7789]], requires_grad=True),\n",
       " Parameter containing:\n",
       " tensor([-0.0001], requires_grad=True)]"
      ]
     },
     "execution_count": 110,
     "metadata": {},
     "output_type": "execute_result"
    }
   ],
   "source": [
    "list(model1.parameters())"
   ]
  },
  {
   "cell_type": "code",
   "execution_count": null,
   "metadata": {},
   "outputs": [],
   "source": []
  }
 ],
 "metadata": {
  "kernelspec": {
   "display_name": "Python 3",
   "language": "python",
   "name": "python3"
  },
  "language_info": {
   "codemirror_mode": {
    "name": "ipython",
    "version": 3
   },
   "file_extension": ".py",
   "mimetype": "text/x-python",
   "name": "python",
   "nbconvert_exporter": "python",
   "pygments_lexer": "ipython3",
   "version": "3.7.3"
  }
 },
 "nbformat": 4,
 "nbformat_minor": 2
}
